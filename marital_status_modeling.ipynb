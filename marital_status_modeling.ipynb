{
 "cells": [
  {
   "cell_type": "markdown",
   "metadata": {},
   "source": [
    "# Lab 8: Define and Solve an ML Problem of Your Choosing"
   ]
  },
  {
   "cell_type": "code",
   "execution_count": 1,
   "metadata": {},
   "outputs": [],
   "source": [
    "import pandas as pd\n",
    "import numpy as np\n",
    "import os \n",
    "import matplotlib.pyplot as plt\n",
    "import seaborn as sns"
   ]
  },
  {
   "cell_type": "markdown",
   "metadata": {},
   "source": [
    "In this lab assignment, you will follow the machine learning life cycle and implement a model to solve a machine learning problem of your choosing. You will select a data set and choose a predictive problem that the data set supports.  You will then inspect the data with your problem in mind and begin to formulate a  project plan. You will then implement the machine learning project plan. \n",
    "\n",
    "You will complete the following tasks:\n",
    "\n",
    "1. Build Your DataFrame\n",
    "2. Define Your ML Problem\n",
    "3. Perform exploratory data analysis to understand your data.\n",
    "4. Define Your Project Plan\n",
    "5. Implement Your Project Plan:\n",
    "    * Prepare your data for your model.\n",
    "    * Fit your model to the training data and evaluate your model.\n",
    "    * Improve your model's performance."
   ]
  },
  {
   "cell_type": "markdown",
   "metadata": {},
   "source": [
    "## Part 1: Build Your DataFrame\n",
    "\n",
    "You will have the option to choose one of four data sets that you have worked with in this program:\n",
    "\n",
    "* The \"census\" data set that contains Census information from 1994: `censusData.csv`\n",
    "* Airbnb NYC \"listings\" data set: `airbnbListingsData.csv`\n",
    "* World Happiness Report (WHR) data set: `WHR2018Chapter2OnlineData.csv`\n",
    "* Book Review data set: `bookReviewsData.csv`\n",
    "\n",
    "Note that these are variations of the data sets that you have worked with in this program. For example, some do not include some of the preprocessing necessary for specific models. \n",
    "\n",
    "#### Load a Data Set and Save it as a Pandas DataFrame\n",
    "\n",
    "The code cell below contains filenames (path + filename) for each of the four data sets available to you.\n",
    "\n",
    "<b>Task:</b> In the code cell below, use the same method you have been using to load the data using `pd.read_csv()` and save it to DataFrame `df`. \n",
    "\n",
    "You can load each file as a new DataFrame to inspect the data before choosing your data set."
   ]
  },
  {
   "cell_type": "code",
   "execution_count": 2,
   "metadata": {},
   "outputs": [
    {
     "data": {
      "text/html": [
       "<div>\n",
       "<style scoped>\n",
       "    .dataframe tbody tr th:only-of-type {\n",
       "        vertical-align: middle;\n",
       "    }\n",
       "\n",
       "    .dataframe tbody tr th {\n",
       "        vertical-align: top;\n",
       "    }\n",
       "\n",
       "    .dataframe thead th {\n",
       "        text-align: right;\n",
       "    }\n",
       "</style>\n",
       "<table border=\"1\" class=\"dataframe\">\n",
       "  <thead>\n",
       "    <tr style=\"text-align: right;\">\n",
       "      <th></th>\n",
       "      <th>age</th>\n",
       "      <th>workclass</th>\n",
       "      <th>fnlwgt</th>\n",
       "      <th>education</th>\n",
       "      <th>education-num</th>\n",
       "      <th>marital-status</th>\n",
       "      <th>occupation</th>\n",
       "      <th>relationship</th>\n",
       "      <th>race</th>\n",
       "      <th>sex_selfID</th>\n",
       "      <th>capital-gain</th>\n",
       "      <th>capital-loss</th>\n",
       "      <th>hours-per-week</th>\n",
       "      <th>native-country</th>\n",
       "      <th>income_binary</th>\n",
       "    </tr>\n",
       "  </thead>\n",
       "  <tbody>\n",
       "    <tr>\n",
       "      <th>0</th>\n",
       "      <td>39.0</td>\n",
       "      <td>State-gov</td>\n",
       "      <td>77516</td>\n",
       "      <td>Bachelors</td>\n",
       "      <td>13</td>\n",
       "      <td>Never-married</td>\n",
       "      <td>Adm-clerical</td>\n",
       "      <td>Not-in-family</td>\n",
       "      <td>White</td>\n",
       "      <td>Non-Female</td>\n",
       "      <td>2174</td>\n",
       "      <td>0</td>\n",
       "      <td>40.0</td>\n",
       "      <td>United-States</td>\n",
       "      <td>&lt;=50K</td>\n",
       "    </tr>\n",
       "    <tr>\n",
       "      <th>1</th>\n",
       "      <td>50.0</td>\n",
       "      <td>Self-emp-not-inc</td>\n",
       "      <td>83311</td>\n",
       "      <td>Bachelors</td>\n",
       "      <td>13</td>\n",
       "      <td>Married-civ-spouse</td>\n",
       "      <td>Exec-managerial</td>\n",
       "      <td>Husband</td>\n",
       "      <td>White</td>\n",
       "      <td>Non-Female</td>\n",
       "      <td>0</td>\n",
       "      <td>0</td>\n",
       "      <td>13.0</td>\n",
       "      <td>United-States</td>\n",
       "      <td>&lt;=50K</td>\n",
       "    </tr>\n",
       "    <tr>\n",
       "      <th>2</th>\n",
       "      <td>38.0</td>\n",
       "      <td>Private</td>\n",
       "      <td>215646</td>\n",
       "      <td>HS-grad</td>\n",
       "      <td>9</td>\n",
       "      <td>Divorced</td>\n",
       "      <td>Handlers-cleaners</td>\n",
       "      <td>Not-in-family</td>\n",
       "      <td>White</td>\n",
       "      <td>Non-Female</td>\n",
       "      <td>0</td>\n",
       "      <td>0</td>\n",
       "      <td>40.0</td>\n",
       "      <td>United-States</td>\n",
       "      <td>&lt;=50K</td>\n",
       "    </tr>\n",
       "    <tr>\n",
       "      <th>3</th>\n",
       "      <td>53.0</td>\n",
       "      <td>Private</td>\n",
       "      <td>234721</td>\n",
       "      <td>11th</td>\n",
       "      <td>7</td>\n",
       "      <td>Married-civ-spouse</td>\n",
       "      <td>Handlers-cleaners</td>\n",
       "      <td>Husband</td>\n",
       "      <td>Black</td>\n",
       "      <td>Non-Female</td>\n",
       "      <td>0</td>\n",
       "      <td>0</td>\n",
       "      <td>40.0</td>\n",
       "      <td>United-States</td>\n",
       "      <td>&lt;=50K</td>\n",
       "    </tr>\n",
       "    <tr>\n",
       "      <th>4</th>\n",
       "      <td>28.0</td>\n",
       "      <td>Private</td>\n",
       "      <td>338409</td>\n",
       "      <td>Bachelors</td>\n",
       "      <td>13</td>\n",
       "      <td>Married-civ-spouse</td>\n",
       "      <td>Prof-specialty</td>\n",
       "      <td>Wife</td>\n",
       "      <td>Black</td>\n",
       "      <td>Female</td>\n",
       "      <td>0</td>\n",
       "      <td>0</td>\n",
       "      <td>40.0</td>\n",
       "      <td>Cuba</td>\n",
       "      <td>&lt;=50K</td>\n",
       "    </tr>\n",
       "  </tbody>\n",
       "</table>\n",
       "</div>"
      ],
      "text/plain": [
       "    age         workclass  fnlwgt  education  education-num  \\\n",
       "0  39.0         State-gov   77516  Bachelors             13   \n",
       "1  50.0  Self-emp-not-inc   83311  Bachelors             13   \n",
       "2  38.0           Private  215646    HS-grad              9   \n",
       "3  53.0           Private  234721       11th              7   \n",
       "4  28.0           Private  338409  Bachelors             13   \n",
       "\n",
       "       marital-status         occupation   relationship   race  sex_selfID  \\\n",
       "0       Never-married       Adm-clerical  Not-in-family  White  Non-Female   \n",
       "1  Married-civ-spouse    Exec-managerial        Husband  White  Non-Female   \n",
       "2            Divorced  Handlers-cleaners  Not-in-family  White  Non-Female   \n",
       "3  Married-civ-spouse  Handlers-cleaners        Husband  Black  Non-Female   \n",
       "4  Married-civ-spouse     Prof-specialty           Wife  Black      Female   \n",
       "\n",
       "   capital-gain  capital-loss  hours-per-week native-country income_binary  \n",
       "0          2174             0            40.0  United-States         <=50K  \n",
       "1             0             0            13.0  United-States         <=50K  \n",
       "2             0             0            40.0  United-States         <=50K  \n",
       "3             0             0            40.0  United-States         <=50K  \n",
       "4             0             0            40.0           Cuba         <=50K  "
      ]
     },
     "execution_count": 2,
     "metadata": {},
     "output_type": "execute_result"
    }
   ],
   "source": [
    "# File names of the four data sets\n",
    "adultDataSet_filename = os.path.join(os.getcwd(), \"data\", \"censusData.csv\")\n",
    "airbnbDataSet_filename = os.path.join(os.getcwd(), \"data\", \"airbnbListingsData.csv\")\n",
    "WHRDataSet_filename = os.path.join(os.getcwd(), \"data\", \"WHR2018Chapter2OnlineData.csv\")\n",
    "bookReviewDataSet_filename = os.path.join(os.getcwd(), \"data\", \"bookReviewsData.csv\")\n",
    "\n",
    "\n",
    "df = pd.read_csv(adultDataSet_filename, header=0)\n",
    "\n",
    "df.head()"
   ]
  },
  {
   "cell_type": "markdown",
   "metadata": {},
   "source": [
    "## Part 2: Define Your ML Problem\n",
    "\n",
    "Next you will formulate your ML Problem. In the markdown cell below, answer the following questions:\n",
    "\n",
    "1. List the data set you have chosen.\n",
    "2. What will you be predicting? What is the label?\n",
    "3. Is this a supervised or unsupervised learning problem? Is this a clustering, classification or regression problem? Is it a binary classificaiton or multi-class classifiction problem?\n",
    "4. What are your features? (note: this list may change after your explore your data)\n",
    "5. Explain why this is an important problem. In other words, how would a company create value with a model that predicts this label?"
   ]
  },
  {
   "cell_type": "markdown",
   "metadata": {},
   "source": [
    "1. I chose to use the cencus data in 'adultDataSet_filename'\n",
    "2. I will be predicting a person's marital-status\n",
    "3. This is a supervised multi-class classification problem.\n",
    "4. My features are everything excpet for the label and 'fnlwgt'\n",
    "5. This is an important problem because a person's marital-status influences their lifestyle choices, purchases, and financial priorities. By being able to predict a person's marital-status, a company would be able to product targeted advertisments for differnt martial-statuses. This increases the chances of someone buying or subscribing to their product and maximizes the use of resources and effectiveness of ads. For example, a dating app could have personalized features based off these predictions, without asking for someone's marital status, which could be sensitive information. "
   ]
  },
  {
   "cell_type": "markdown",
   "metadata": {},
   "source": [
    "## Part 3: Understand Your Data\n",
    "\n",
    "The next step is to perform exploratory data analysis. Inspect and analyze your data set with your machine learning problem in mind. Consider the following as you inspect your data:\n",
    "\n",
    "1. What data preparation techniques would you like to use? These data preparation techniques may include:\n",
    "\n",
    "    * addressing missingness, such as replacing missing values with means\n",
    "    * finding and replacing outliers\n",
    "    * renaming features and labels\n",
    "    * finding and replacing outliers\n",
    "    * performing feature engineering techniques such as one-hot encoding on categorical features\n",
    "    * selecting appropriate features and removing irrelevant features\n",
    "    * performing specific data cleaning and preprocessing techniques for an NLP problem\n",
    "    * addressing class imbalance in your data sample to promote fair AI\n",
    "    \n",
    "\n",
    "2. What machine learning model (or models) you would like to use that is suitable for your predictive problem and data?\n",
    "    * Are there other data preparation techniques that you will need to apply to build a balanced modeling data set for your problem and model? For example, will you need to scale your data?\n",
    " \n",
    " \n",
    "3. How will you evaluate and improve the model's performance?\n",
    "    * Are there specific evaluation metrics and methods that are appropriate for your model?\n",
    "    \n",
    "\n",
    "Think of the different techniques you have used to inspect and analyze your data in this course. These include using Pandas to apply data filters, using the Pandas `describe()` method to get insight into key statistics for each column, using the Pandas `dtypes` property to inspect the data type of each column, and using Matplotlib and Seaborn to detect outliers and visualize relationships between features and labels. If you are working on a classification problem, use techniques you have learned to determine if there is class imbalance.\n",
    "\n",
    "<b>Task</b>: Use the techniques you have learned in this course to inspect and analyze your data. You can import additional packages that you have used in this course that you will need to perform this task.\n",
    "\n",
    "<b>Note</b>: You can add code cells if needed by going to the <b>Insert</b> menu and clicking on <b>Insert Cell Below</b> in the drop-drown menu."
   ]
  },
  {
   "cell_type": "code",
   "execution_count": 3,
   "metadata": {},
   "outputs": [
    {
     "data": {
      "text/html": [
       "<div>\n",
       "<style scoped>\n",
       "    .dataframe tbody tr th:only-of-type {\n",
       "        vertical-align: middle;\n",
       "    }\n",
       "\n",
       "    .dataframe tbody tr th {\n",
       "        vertical-align: top;\n",
       "    }\n",
       "\n",
       "    .dataframe thead th {\n",
       "        text-align: right;\n",
       "    }\n",
       "</style>\n",
       "<table border=\"1\" class=\"dataframe\">\n",
       "  <thead>\n",
       "    <tr style=\"text-align: right;\">\n",
       "      <th></th>\n",
       "      <th>age</th>\n",
       "      <th>workclass</th>\n",
       "      <th>fnlwgt</th>\n",
       "      <th>education</th>\n",
       "      <th>education-num</th>\n",
       "      <th>marital-status</th>\n",
       "      <th>occupation</th>\n",
       "      <th>relationship</th>\n",
       "      <th>race</th>\n",
       "      <th>sex_selfID</th>\n",
       "      <th>capital-gain</th>\n",
       "      <th>capital-loss</th>\n",
       "      <th>hours-per-week</th>\n",
       "      <th>native-country</th>\n",
       "      <th>income_binary</th>\n",
       "    </tr>\n",
       "  </thead>\n",
       "  <tbody>\n",
       "    <tr>\n",
       "      <th>0</th>\n",
       "      <td>39.0</td>\n",
       "      <td>State-gov</td>\n",
       "      <td>77516</td>\n",
       "      <td>Bachelors</td>\n",
       "      <td>13</td>\n",
       "      <td>Never-married</td>\n",
       "      <td>Adm-clerical</td>\n",
       "      <td>Not-in-family</td>\n",
       "      <td>White</td>\n",
       "      <td>Non-Female</td>\n",
       "      <td>2174</td>\n",
       "      <td>0</td>\n",
       "      <td>40.0</td>\n",
       "      <td>United-States</td>\n",
       "      <td>&lt;=50K</td>\n",
       "    </tr>\n",
       "    <tr>\n",
       "      <th>1</th>\n",
       "      <td>50.0</td>\n",
       "      <td>Self-emp-not-inc</td>\n",
       "      <td>83311</td>\n",
       "      <td>Bachelors</td>\n",
       "      <td>13</td>\n",
       "      <td>Married-civ-spouse</td>\n",
       "      <td>Exec-managerial</td>\n",
       "      <td>Husband</td>\n",
       "      <td>White</td>\n",
       "      <td>Non-Female</td>\n",
       "      <td>0</td>\n",
       "      <td>0</td>\n",
       "      <td>13.0</td>\n",
       "      <td>United-States</td>\n",
       "      <td>&lt;=50K</td>\n",
       "    </tr>\n",
       "    <tr>\n",
       "      <th>2</th>\n",
       "      <td>38.0</td>\n",
       "      <td>Private</td>\n",
       "      <td>215646</td>\n",
       "      <td>HS-grad</td>\n",
       "      <td>9</td>\n",
       "      <td>Divorced</td>\n",
       "      <td>Handlers-cleaners</td>\n",
       "      <td>Not-in-family</td>\n",
       "      <td>White</td>\n",
       "      <td>Non-Female</td>\n",
       "      <td>0</td>\n",
       "      <td>0</td>\n",
       "      <td>40.0</td>\n",
       "      <td>United-States</td>\n",
       "      <td>&lt;=50K</td>\n",
       "    </tr>\n",
       "    <tr>\n",
       "      <th>3</th>\n",
       "      <td>53.0</td>\n",
       "      <td>Private</td>\n",
       "      <td>234721</td>\n",
       "      <td>11th</td>\n",
       "      <td>7</td>\n",
       "      <td>Married-civ-spouse</td>\n",
       "      <td>Handlers-cleaners</td>\n",
       "      <td>Husband</td>\n",
       "      <td>Black</td>\n",
       "      <td>Non-Female</td>\n",
       "      <td>0</td>\n",
       "      <td>0</td>\n",
       "      <td>40.0</td>\n",
       "      <td>United-States</td>\n",
       "      <td>&lt;=50K</td>\n",
       "    </tr>\n",
       "    <tr>\n",
       "      <th>4</th>\n",
       "      <td>28.0</td>\n",
       "      <td>Private</td>\n",
       "      <td>338409</td>\n",
       "      <td>Bachelors</td>\n",
       "      <td>13</td>\n",
       "      <td>Married-civ-spouse</td>\n",
       "      <td>Prof-specialty</td>\n",
       "      <td>Wife</td>\n",
       "      <td>Black</td>\n",
       "      <td>Female</td>\n",
       "      <td>0</td>\n",
       "      <td>0</td>\n",
       "      <td>40.0</td>\n",
       "      <td>Cuba</td>\n",
       "      <td>&lt;=50K</td>\n",
       "    </tr>\n",
       "  </tbody>\n",
       "</table>\n",
       "</div>"
      ],
      "text/plain": [
       "    age         workclass  fnlwgt  education  education-num  \\\n",
       "0  39.0         State-gov   77516  Bachelors             13   \n",
       "1  50.0  Self-emp-not-inc   83311  Bachelors             13   \n",
       "2  38.0           Private  215646    HS-grad              9   \n",
       "3  53.0           Private  234721       11th              7   \n",
       "4  28.0           Private  338409  Bachelors             13   \n",
       "\n",
       "       marital-status         occupation   relationship   race  sex_selfID  \\\n",
       "0       Never-married       Adm-clerical  Not-in-family  White  Non-Female   \n",
       "1  Married-civ-spouse    Exec-managerial        Husband  White  Non-Female   \n",
       "2            Divorced  Handlers-cleaners  Not-in-family  White  Non-Female   \n",
       "3  Married-civ-spouse  Handlers-cleaners        Husband  Black  Non-Female   \n",
       "4  Married-civ-spouse     Prof-specialty           Wife  Black      Female   \n",
       "\n",
       "   capital-gain  capital-loss  hours-per-week native-country income_binary  \n",
       "0          2174             0            40.0  United-States         <=50K  \n",
       "1             0             0            13.0  United-States         <=50K  \n",
       "2             0             0            40.0  United-States         <=50K  \n",
       "3             0             0            40.0  United-States         <=50K  \n",
       "4             0             0            40.0           Cuba         <=50K  "
      ]
     },
     "execution_count": 3,
     "metadata": {},
     "output_type": "execute_result"
    }
   ],
   "source": [
    "df.head()"
   ]
  },
  {
   "cell_type": "code",
   "execution_count": 4,
   "metadata": {},
   "outputs": [
    {
     "data": {
      "text/plain": [
       "(32561, 15)"
      ]
     },
     "execution_count": 4,
     "metadata": {},
     "output_type": "execute_result"
    }
   ],
   "source": [
    "df.shape"
   ]
  },
  {
   "cell_type": "code",
   "execution_count": 5,
   "metadata": {},
   "outputs": [
    {
     "data": {
      "text/html": [
       "<div>\n",
       "<style scoped>\n",
       "    .dataframe tbody tr th:only-of-type {\n",
       "        vertical-align: middle;\n",
       "    }\n",
       "\n",
       "    .dataframe tbody tr th {\n",
       "        vertical-align: top;\n",
       "    }\n",
       "\n",
       "    .dataframe thead th {\n",
       "        text-align: right;\n",
       "    }\n",
       "</style>\n",
       "<table border=\"1\" class=\"dataframe\">\n",
       "  <thead>\n",
       "    <tr style=\"text-align: right;\">\n",
       "      <th></th>\n",
       "      <th>age</th>\n",
       "      <th>fnlwgt</th>\n",
       "      <th>education-num</th>\n",
       "      <th>capital-gain</th>\n",
       "      <th>capital-loss</th>\n",
       "      <th>hours-per-week</th>\n",
       "    </tr>\n",
       "  </thead>\n",
       "  <tbody>\n",
       "    <tr>\n",
       "      <th>count</th>\n",
       "      <td>32399.000000</td>\n",
       "      <td>3.256100e+04</td>\n",
       "      <td>32561.000000</td>\n",
       "      <td>32561.000000</td>\n",
       "      <td>32561.000000</td>\n",
       "      <td>32236.000000</td>\n",
       "    </tr>\n",
       "    <tr>\n",
       "      <th>mean</th>\n",
       "      <td>38.589216</td>\n",
       "      <td>1.897784e+05</td>\n",
       "      <td>10.080679</td>\n",
       "      <td>615.907773</td>\n",
       "      <td>87.303830</td>\n",
       "      <td>40.450428</td>\n",
       "    </tr>\n",
       "    <tr>\n",
       "      <th>std</th>\n",
       "      <td>13.647862</td>\n",
       "      <td>1.055500e+05</td>\n",
       "      <td>2.572720</td>\n",
       "      <td>2420.191974</td>\n",
       "      <td>402.960219</td>\n",
       "      <td>12.353748</td>\n",
       "    </tr>\n",
       "    <tr>\n",
       "      <th>min</th>\n",
       "      <td>17.000000</td>\n",
       "      <td>1.228500e+04</td>\n",
       "      <td>1.000000</td>\n",
       "      <td>0.000000</td>\n",
       "      <td>0.000000</td>\n",
       "      <td>1.000000</td>\n",
       "    </tr>\n",
       "    <tr>\n",
       "      <th>25%</th>\n",
       "      <td>28.000000</td>\n",
       "      <td>1.178270e+05</td>\n",
       "      <td>9.000000</td>\n",
       "      <td>0.000000</td>\n",
       "      <td>0.000000</td>\n",
       "      <td>40.000000</td>\n",
       "    </tr>\n",
       "    <tr>\n",
       "      <th>50%</th>\n",
       "      <td>37.000000</td>\n",
       "      <td>1.783560e+05</td>\n",
       "      <td>10.000000</td>\n",
       "      <td>0.000000</td>\n",
       "      <td>0.000000</td>\n",
       "      <td>40.000000</td>\n",
       "    </tr>\n",
       "    <tr>\n",
       "      <th>75%</th>\n",
       "      <td>48.000000</td>\n",
       "      <td>2.370510e+05</td>\n",
       "      <td>12.000000</td>\n",
       "      <td>0.000000</td>\n",
       "      <td>0.000000</td>\n",
       "      <td>45.000000</td>\n",
       "    </tr>\n",
       "    <tr>\n",
       "      <th>max</th>\n",
       "      <td>90.000000</td>\n",
       "      <td>1.484705e+06</td>\n",
       "      <td>16.000000</td>\n",
       "      <td>14084.000000</td>\n",
       "      <td>4356.000000</td>\n",
       "      <td>99.000000</td>\n",
       "    </tr>\n",
       "  </tbody>\n",
       "</table>\n",
       "</div>"
      ],
      "text/plain": [
       "                age        fnlwgt  education-num  capital-gain  capital-loss  \\\n",
       "count  32399.000000  3.256100e+04   32561.000000  32561.000000  32561.000000   \n",
       "mean      38.589216  1.897784e+05      10.080679    615.907773     87.303830   \n",
       "std       13.647862  1.055500e+05       2.572720   2420.191974    402.960219   \n",
       "min       17.000000  1.228500e+04       1.000000      0.000000      0.000000   \n",
       "25%       28.000000  1.178270e+05       9.000000      0.000000      0.000000   \n",
       "50%       37.000000  1.783560e+05      10.000000      0.000000      0.000000   \n",
       "75%       48.000000  2.370510e+05      12.000000      0.000000      0.000000   \n",
       "max       90.000000  1.484705e+06      16.000000  14084.000000   4356.000000   \n",
       "\n",
       "       hours-per-week  \n",
       "count    32236.000000  \n",
       "mean        40.450428  \n",
       "std         12.353748  \n",
       "min          1.000000  \n",
       "25%         40.000000  \n",
       "50%         40.000000  \n",
       "75%         45.000000  \n",
       "max         99.000000  "
      ]
     },
     "execution_count": 5,
     "metadata": {},
     "output_type": "execute_result"
    }
   ],
   "source": [
    "df.describe()"
   ]
  },
  {
   "cell_type": "code",
   "execution_count": 6,
   "metadata": {},
   "outputs": [
    {
     "data": {
      "text/plain": [
       "age               float64\n",
       "workclass          object\n",
       "fnlwgt              int64\n",
       "education          object\n",
       "education-num       int64\n",
       "marital-status     object\n",
       "occupation         object\n",
       "relationship       object\n",
       "race               object\n",
       "sex_selfID         object\n",
       "capital-gain        int64\n",
       "capital-loss        int64\n",
       "hours-per-week    float64\n",
       "native-country     object\n",
       "income_binary      object\n",
       "dtype: object"
      ]
     },
     "execution_count": 6,
     "metadata": {},
     "output_type": "execute_result"
    }
   ],
   "source": [
    "df.dtypes"
   ]
  },
  {
   "cell_type": "code",
   "execution_count": 7,
   "metadata": {},
   "outputs": [
    {
     "data": {
      "text/plain": [
       "age                  73\n",
       "workclass             8\n",
       "fnlwgt            21648\n",
       "education            16\n",
       "education-num        16\n",
       "marital-status        7\n",
       "occupation           14\n",
       "relationship          6\n",
       "race                  5\n",
       "sex_selfID            2\n",
       "capital-gain        106\n",
       "capital-loss         92\n",
       "hours-per-week       94\n",
       "native-country       41\n",
       "income_binary         2\n",
       "dtype: int64"
      ]
     },
     "execution_count": 7,
     "metadata": {},
     "output_type": "execute_result"
    }
   ],
   "source": [
    "df.nunique()"
   ]
  },
  {
   "cell_type": "markdown",
   "metadata": {},
   "source": [
    "after some research 'education' and 'education-nums' represent the same data. 'education' can be removed as 'education-nums' is the numerical version of the data."
   ]
  },
  {
   "cell_type": "code",
   "execution_count": 8,
   "metadata": {},
   "outputs": [
    {
     "data": {
      "text/plain": [
       "Married-civ-spouse       14976\n",
       "Never-married            10683\n",
       "Divorced                  4443\n",
       "Separated                 1025\n",
       "Widowed                    993\n",
       "Married-spouse-absent      418\n",
       "Married-AF-spouse           23\n",
       "Name: marital-status, dtype: int64"
      ]
     },
     "execution_count": 8,
     "metadata": {},
     "output_type": "execute_result"
    }
   ],
   "source": [
    "# distribution of values for label\n",
    "df['marital-status'].value_counts(dropna=False)"
   ]
  },
  {
   "cell_type": "code",
   "execution_count": 9,
   "metadata": {},
   "outputs": [
    {
     "data": {
      "text/plain": [
       "workclass          8\n",
       "education         16\n",
       "marital-status     7\n",
       "occupation        14\n",
       "relationship       6\n",
       "race               5\n",
       "sex_selfID         2\n",
       "native-country    41\n",
       "income_binary      2\n",
       "dtype: int64"
      ]
     },
     "execution_count": 9,
     "metadata": {},
     "output_type": "execute_result"
    }
   ],
   "source": [
    "# non numerical features \n",
    "df.select_dtypes(include='object').nunique()"
   ]
  },
  {
   "cell_type": "code",
   "execution_count": 10,
   "metadata": {},
   "outputs": [
    {
     "data": {
      "text/plain": [
       "age                162\n",
       "workclass         1836\n",
       "fnlwgt               0\n",
       "education            0\n",
       "education-num        0\n",
       "marital-status       0\n",
       "occupation        1843\n",
       "relationship         0\n",
       "race                 0\n",
       "sex_selfID           0\n",
       "capital-gain         0\n",
       "capital-loss         0\n",
       "hours-per-week     325\n",
       "native-country     583\n",
       "income_binary        0\n",
       "dtype: int64"
      ]
     },
     "execution_count": 10,
     "metadata": {},
     "output_type": "execute_result"
    }
   ],
   "source": [
    "# check if theres missing values\n",
    "np.sum(df.isnull(), axis = 0)"
   ]
  },
  {
   "cell_type": "code",
   "execution_count": 11,
   "metadata": {},
   "outputs": [
    {
     "name": "stdout",
     "output_type": "stream",
     "text": [
      "workclass\n",
      "Private             22696\n",
      "Self-emp-not-inc     2541\n",
      "Local-gov            2093\n",
      "State-gov            1298\n",
      "Self-emp-inc         1116\n",
      "Federal-gov           960\n",
      "Without-pay            14\n",
      "Never-worked            7\n",
      "Name: workclass, dtype: int64\n",
      "\n",
      "education\n",
      "HS-grad         10501\n",
      "Some-college     7291\n",
      "Bachelors        5355\n",
      "Masters          1723\n",
      "Assoc-voc        1382\n",
      "11th             1175\n",
      "Assoc-acdm       1067\n",
      "10th              933\n",
      "7th-8th           646\n",
      "Prof-school       576\n",
      "9th               514\n",
      "12th              433\n",
      "Doctorate         413\n",
      "5th-6th           333\n",
      "1st-4th           168\n",
      "Preschool          51\n",
      "Name: education, dtype: int64\n",
      "\n",
      "marital-status\n",
      "Married-civ-spouse       14976\n",
      "Never-married            10683\n",
      "Divorced                  4443\n",
      "Separated                 1025\n",
      "Widowed                    993\n",
      "Married-spouse-absent      418\n",
      "Married-AF-spouse           23\n",
      "Name: marital-status, dtype: int64\n",
      "\n",
      "occupation\n",
      "Prof-specialty       4140\n",
      "Craft-repair         4099\n",
      "Exec-managerial      4066\n",
      "Adm-clerical         3770\n",
      "Sales                3650\n",
      "Other-service        3295\n",
      "Machine-op-inspct    2002\n",
      "Transport-moving     1597\n",
      "Handlers-cleaners    1370\n",
      "Farming-fishing       994\n",
      "Tech-support          928\n",
      "Protective-serv       649\n",
      "Priv-house-serv       149\n",
      "Armed-Forces            9\n",
      "Name: occupation, dtype: int64\n",
      "\n",
      "relationship\n",
      "Husband           13193\n",
      "Not-in-family      8305\n",
      "Own-child          5068\n",
      "Unmarried          3446\n",
      "Wife               1568\n",
      "Other-relative      981\n",
      "Name: relationship, dtype: int64\n",
      "\n",
      "race\n",
      "White                 27816\n",
      "Black                  3124\n",
      "Asian-Pac-Islander     1039\n",
      "Amer-Indian-Inuit       311\n",
      "Other                   271\n",
      "Name: race, dtype: int64\n",
      "\n",
      "sex_selfID\n",
      "Non-Female    21790\n",
      "Female        10771\n",
      "Name: sex_selfID, dtype: int64\n",
      "\n",
      "native-country\n",
      "United-States                 29170\n",
      "Mexico                          643\n",
      "Philippines                     198\n",
      "Germany                         137\n",
      "Canada                          121\n",
      "Puerto-Rico                     114\n",
      "El-Salvador                     106\n",
      "India                           100\n",
      "Cuba                             95\n",
      "England                          90\n",
      "Jamaica                          81\n",
      "South                            80\n",
      "China                            75\n",
      "Italy                            73\n",
      "Dominican-Republic               70\n",
      "Vietnam                          67\n",
      "Guatemala                        64\n",
      "Japan                            62\n",
      "Poland                           60\n",
      "Columbia                         59\n",
      "Taiwan                           51\n",
      "Haiti                            44\n",
      "Iran                             43\n",
      "Portugal                         37\n",
      "Nicaragua                        34\n",
      "Peru                             31\n",
      "France                           29\n",
      "Greece                           29\n",
      "Ecuador                          28\n",
      "Ireland                          24\n",
      "Hong                             20\n",
      "Cambodia                         19\n",
      "Trinadad&Tobago                  19\n",
      "Laos                             18\n",
      "Thailand                         18\n",
      "Yugoslavia                       16\n",
      "Outlying-US(Guam-USVI-etc)       14\n",
      "Honduras                         13\n",
      "Hungary                          13\n",
      "Scotland                         12\n",
      "Holand-Netherlands                1\n",
      "Name: native-country, dtype: int64\n",
      "\n",
      "income_binary\n",
      "<=50K    24720\n",
      ">50K      7841\n",
      "Name: income_binary, dtype: int64\n",
      "\n"
     ]
    },
    {
     "data": {
      "text/plain": [
       "22"
      ]
     },
     "execution_count": 11,
     "metadata": {},
     "output_type": "execute_result"
    }
   ],
   "source": [
    "# check for duplicates\n",
    "for col in df.select_dtypes(include='object'):\n",
    "    print(col)\n",
    "    print(df[col].value_counts())\n",
    "    print()\n",
    "\n",
    "df.duplicated().sum()"
   ]
  },
  {
   "cell_type": "markdown",
   "metadata": {},
   "source": [
    "## Part 4: Define Your Project Plan\n",
    "\n",
    "Now that you understand your data, in the markdown cell below, define your plan to implement the remaining phases of the machine learning life cycle (data preparation, modeling, evaluation) to solve your ML problem. Answer the following questions:\n",
    "\n",
    "* Do you have a new feature list? If so, what are the features that you chose to keep and remove after inspecting the data? \n",
    "* Explain different data preparation techniques that you will use to prepare your data for modeling.\n",
    "* What is your model (or models)?\n",
    "* Describe your plan to train your model, analyze its performance and then improve the model. That is, describe your model building, validation and selection plan to produce a model that generalizes well to new data. "
   ]
  },
  {
   "cell_type": "markdown",
   "metadata": {},
   "source": [
    "1. After some research I decided to exclude 'fnlwgt' as it contains statistics on the distribution of data and is not relavent to what I'm trying to predict. I will also remove 'education' as 'education_num' is a better representation of eduaction. My features will include all the columns except for the label, 'fnlwgt', and 'education'.\n",
    "2. I will remove duplicates, winsorsize outliers, and address missing values by replacing numerical missing values with means and medians and categorical missing values with 'Unknown'. I would also perform one-hot-encoding for categorical data. For 'native-country', since theres alot of values, I will regroup by region before one-hot-encoding. I would then normalize the numerical features for consistency.\n",
    "5. I would use a Logistic regression model to predict a multi-class output.\n",
    "6. I will clean and preprocess the dataset, handling missing values, encoding categorical variables, and normalizing numerical features. I'll split the data into training, validation, and test sets, find the best number of features using auc values, then train a logistic regression model, using regularization to prevent overfitting. The model will be evaluated using metrics like accuracy, precision, recall, and confusion matrix, with cross-validation. I'll tune hyperparameters using a gridsearch. After selecting the best version based on the gridsearch, I’ll evaluate it on the test set to estimate its performance."
   ]
  },
  {
   "cell_type": "markdown",
   "metadata": {},
   "source": [
    "## Part 5: Implement Your Project Plan\n",
    "\n",
    "<b>Task:</b> In the code cell below, import additional packages that you have used in this course that you will need to implement your project plan."
   ]
  },
  {
   "cell_type": "code",
   "execution_count": 12,
   "metadata": {},
   "outputs": [],
   "source": [
    "from sklearn.linear_model import LogisticRegression\n",
    "from sklearn.model_selection import train_test_split, GridSearchCV\n",
    "from sklearn.metrics import log_loss, roc_curve, auc\n",
    "from sklearn.metrics import accuracy_score, confusion_matrix, precision_recall_curve\n",
    "import scipy.stats as stats\n",
    "\n",
    "from sklearn.feature_selection import SelectKBest, f_classif\n",
    "\n",
    "import time"
   ]
  },
  {
   "cell_type": "markdown",
   "metadata": {},
   "source": [
    "<b>Task:</b> Use the rest of this notebook to carry out your project plan. \n",
    "\n",
    "You will:\n",
    "\n",
    "1. Prepare your data for your model.\n",
    "2. Fit your model to the training data and evaluate your model.\n",
    "3. Improve your model's performance by performing model selection and/or feature selection techniques to find best model for your problem.\n",
    "\n",
    "Add code cells below and populate the notebook with commentary, code, analyses, results, and figures as you see fit. "
   ]
  },
  {
   "cell_type": "markdown",
   "metadata": {},
   "source": [
    "#### Remove unwanted features + Group label values"
   ]
  },
  {
   "cell_type": "code",
   "execution_count": 13,
   "metadata": {},
   "outputs": [],
   "source": [
    "df.drop(columns=['education', 'fnlwgt'], inplace=True)"
   ]
  },
  {
   "cell_type": "code",
   "execution_count": 14,
   "metadata": {},
   "outputs": [
    {
     "data": {
      "text/plain": [
       "Married-civ-spouse       14976\n",
       "Never-married            10683\n",
       "Divorced                  4443\n",
       "Separated                 1025\n",
       "Widowed                    993\n",
       "Married-spouse-absent      418\n",
       "Married-AF-spouse           23\n",
       "Name: marital-status, dtype: int64"
      ]
     },
     "execution_count": 14,
     "metadata": {},
     "output_type": "execute_result"
    }
   ],
   "source": [
    "df['marital-status'].value_counts()"
   ]
  },
  {
   "cell_type": "markdown",
   "metadata": {},
   "source": [
    "The value distributions are very imbalanced. I'll regroup them into 4 categories to even out the distribution."
   ]
  },
  {
   "cell_type": "code",
   "execution_count": 15,
   "metadata": {},
   "outputs": [
    {
     "data": {
      "text/plain": [
       "Married_together      14999\n",
       "Never-married         10683\n",
       "Previously married     5436\n",
       "Married_apart          1443\n",
       "Name: marital-status, dtype: int64"
      ]
     },
     "execution_count": 15,
     "metadata": {},
     "output_type": "execute_result"
    }
   ],
   "source": [
    "marital_status_mapping = {\n",
    "    \"Married-civ-spouse\": \"Married_together\",\n",
    "    \"Married-AF-spouse\": \"Married_together\",\n",
    "    \"Married-spouse-absent\": \"Married_apart\",\n",
    "    \"Separated\": \"Married_apart\",\n",
    "    \"Divorced\": \"Previously married\",\n",
    "    \"Widowed\": \"Previously married\",\n",
    "    # \"Never-married\": \"Never married\"\n",
    "}\n",
    "\n",
    "df['marital-status'] = df['marital-status'].replace(marital_status_mapping)\n",
    "df['marital-status'].value_counts()"
   ]
  },
  {
   "cell_type": "markdown",
   "metadata": {},
   "source": [
    "#### Handle duplicates"
   ]
  },
  {
   "cell_type": "code",
   "execution_count": 16,
   "metadata": {},
   "outputs": [
    {
     "data": {
      "text/plain": [
       "3432"
      ]
     },
     "execution_count": 16,
     "metadata": {},
     "output_type": "execute_result"
    }
   ],
   "source": [
    "df.duplicated().sum()"
   ]
  },
  {
   "cell_type": "code",
   "execution_count": 17,
   "metadata": {},
   "outputs": [
    {
     "data": {
      "text/plain": [
       "0"
      ]
     },
     "execution_count": 17,
     "metadata": {},
     "output_type": "execute_result"
    }
   ],
   "source": [
    "df = df.drop_duplicates().reset_index(drop=True)\n",
    "df.duplicated().sum()"
   ]
  },
  {
   "cell_type": "markdown",
   "metadata": {},
   "source": [
    "#### Handle missing values"
   ]
  },
  {
   "cell_type": "code",
   "execution_count": 18,
   "metadata": {
    "scrolled": true
   },
   "outputs": [
    {
     "data": {
      "text/plain": [
       "age               float64\n",
       "workclass          object\n",
       "occupation         object\n",
       "hours-per-week    float64\n",
       "native-country     object\n",
       "dtype: object"
      ]
     },
     "execution_count": 18,
     "metadata": {},
     "output_type": "execute_result"
    }
   ],
   "source": [
    "# find cols with missing numerical data\n",
    "nan_cols = df.columns[df.isnull().any()]\n",
    "\n",
    "df[nan_cols].dtypes"
   ]
  },
  {
   "cell_type": "code",
   "execution_count": 19,
   "metadata": {
    "scrolled": true
   },
   "outputs": [
    {
     "data": {
      "text/plain": [
       "['age',\n",
       " 'workclass',\n",
       " 'education-num',\n",
       " 'marital-status',\n",
       " 'occupation',\n",
       " 'relationship',\n",
       " 'race',\n",
       " 'sex_selfID',\n",
       " 'capital-gain',\n",
       " 'capital-loss',\n",
       " 'hours-per-week',\n",
       " 'native-country',\n",
       " 'income_binary',\n",
       " 'age_na',\n",
       " 'workclass_na',\n",
       " 'occupation_na',\n",
       " 'hours-per-week_na',\n",
       " 'native-country_na']"
      ]
     },
     "execution_count": 19,
     "metadata": {},
     "output_type": "execute_result"
    }
   ],
   "source": [
    "# create new cols for cols with missing data\n",
    "for col in nan_cols:\n",
    "    df[col + '_na'] = df[col].isnull()\n",
    "list(df.columns)"
   ]
  },
  {
   "cell_type": "code",
   "execution_count": 20,
   "metadata": {},
   "outputs": [
    {
     "name": "stdout",
     "output_type": "stream",
     "text": [
      "mean age: 39.23637618636756\n",
      "median hours: 40.0\n"
     ]
    },
    {
     "data": {
      "text/plain": [
       "age               False\n",
       "workclass          True\n",
       "occupation         True\n",
       "hours-per-week    False\n",
       "native-country     True\n",
       "dtype: bool"
      ]
     },
     "execution_count": 20,
     "metadata": {},
     "output_type": "execute_result"
    }
   ],
   "source": [
    "# mean for age and median for hours-per-week\n",
    "mean_ages=df['age'].mean()\n",
    "median_hours = df['hours-per-week'].median()\n",
    "print('mean age: ' + str(mean_ages))\n",
    "print('median hours: ' + str(median_hours))\n",
    "\n",
    "# fill missing vals with mean/median\n",
    "df['age'].fillna(value=mean_ages, inplace=True)\n",
    "df['hours-per-week'].fillna(value=median_hours, inplace=True)\n",
    "\n",
    "df[nan_cols].isnull().any()"
   ]
  },
  {
   "cell_type": "code",
   "execution_count": 21,
   "metadata": {},
   "outputs": [
    {
     "data": {
      "text/plain": [
       "Private             19648\n",
       "Self-emp-not-inc     2474\n",
       "Local-gov            2038\n",
       "NaN                  1639\n",
       "State-gov            1273\n",
       "Self-emp-inc         1089\n",
       "Federal-gov           947\n",
       "Without-pay            14\n",
       "Never-worked            7\n",
       "Name: workclass, dtype: int64"
      ]
     },
     "execution_count": 21,
     "metadata": {},
     "output_type": "execute_result"
    }
   ],
   "source": [
    "# distribution of values for workclass\n",
    "df['workclass'].value_counts(dropna=False)"
   ]
  },
  {
   "cell_type": "code",
   "execution_count": 22,
   "metadata": {},
   "outputs": [
    {
     "data": {
      "text/plain": [
       "Not-self-emp    23927\n",
       "Self-emp         3563\n",
       "NaN              1639\n",
       "Name: workclass, dtype: int64"
      ]
     },
     "execution_count": 22,
     "metadata": {},
     "output_type": "execute_result"
    }
   ],
   "source": [
    "# reduce number of values in 'workclass'\n",
    "\n",
    "# mask for self emp/not self emp\n",
    "cols_self_emp = (df['workclass'] == 'Self-emp-not-inc') | (df['workclass'] == 'Self-emp-inc')\n",
    "cols_not_self_emp = ~(df['workclass'] == 'Self-emp-not-inc') & ~(df['workclass'] == 'Self-emp-inc') & ~(df['workclass'].isnull())\n",
    "\n",
    "# rename values to 'Self-emp' and 'Not-self-emp'\n",
    "df['workclass'] = np.where(cols_self_emp, 'Self-emp', df['workclass'])\n",
    "df['workclass'] = np.where(cols_not_self_emp, 'Not-self-emp', df['workclass'])\n",
    "\n",
    "df['workclass'].value_counts(dropna=False)"
   ]
  },
  {
   "cell_type": "code",
   "execution_count": 23,
   "metadata": {},
   "outputs": [
    {
     "data": {
      "text/plain": [
       "Prof-specialty       3887\n",
       "Exec-managerial      3724\n",
       "Adm-clerical         3326\n",
       "Craft-repair         3307\n",
       "Sales                3275\n",
       "Other-service        3000\n",
       "Machine-op-inspct    1708\n",
       "NaN                  1646\n",
       "Transport-moving     1448\n",
       "Handlers-cleaners    1183\n",
       "Farming-fishing       962\n",
       "Tech-support          876\n",
       "Protective-serv       631\n",
       "Priv-house-serv       147\n",
       "Armed-Forces            9\n",
       "Name: occupation, dtype: int64"
      ]
     },
     "execution_count": 23,
     "metadata": {},
     "output_type": "execute_result"
    }
   ],
   "source": [
    "# distribution of values for occupation\n",
    "df['occupation'].value_counts(dropna=False)"
   ]
  },
  {
   "cell_type": "code",
   "execution_count": 24,
   "metadata": {},
   "outputs": [
    {
     "data": {
      "text/plain": [
       "United-States                 25753\n",
       "Mexico                          633\n",
       "NaN                             581\n",
       "Philippines                     198\n",
       "Germany                         137\n",
       "Canada                          121\n",
       "Puerto-Rico                     114\n",
       "El-Salvador                     106\n",
       "India                           100\n",
       "Cuba                             95\n",
       "England                          90\n",
       "Jamaica                          81\n",
       "South                            80\n",
       "China                            75\n",
       "Italy                            73\n",
       "Dominican-Republic               70\n",
       "Vietnam                          67\n",
       "Japan                            62\n",
       "Guatemala                        62\n",
       "Poland                           60\n",
       "Columbia                         59\n",
       "Taiwan                           51\n",
       "Haiti                            44\n",
       "Iran                             43\n",
       "Portugal                         37\n",
       "Nicaragua                        34\n",
       "Peru                             31\n",
       "France                           29\n",
       "Greece                           29\n",
       "Ecuador                          28\n",
       "Ireland                          23\n",
       "Hong                             20\n",
       "Cambodia                         19\n",
       "Trinadad&Tobago                  19\n",
       "Laos                             18\n",
       "Thailand                         18\n",
       "Yugoslavia                       16\n",
       "Outlying-US(Guam-USVI-etc)       14\n",
       "Honduras                         13\n",
       "Hungary                          13\n",
       "Scotland                         12\n",
       "Holand-Netherlands                1\n",
       "Name: native-country, dtype: int64"
      ]
     },
     "execution_count": 24,
     "metadata": {},
     "output_type": "execute_result"
    }
   ],
   "source": [
    "# distribution of values for native-country\n",
    "df['native-country'].value_counts(dropna=False)"
   ]
  },
  {
   "cell_type": "code",
   "execution_count": 26,
   "metadata": {},
   "outputs": [
    {
     "data": {
      "text/plain": [
       "United-States    25753\n",
       "North America     1219\n",
       "Asia               671\n",
       "NaN                581\n",
       "Europe             520\n",
       "Latin America      305\n",
       "South               80\n",
       "Name: native-country, dtype: int64"
      ]
     },
     "execution_count": 26,
     "metadata": {},
     "output_type": "execute_result"
    }
   ],
   "source": [
    "# map regions together to reduce number of values for one-hot-encoding\n",
    "region_map = {\n",
    "    # North America / Caribbean\n",
    "    \"Mexico\": \"North America\",\n",
    "    \"Canada\": \"North America\",\n",
    "    \"Puerto-Rico\": \"North America\",\n",
    "    \"Outlying-US(Guam-USVI-etc)\": \"North America\",\n",
    "    \"Honduras\": \"North America\",\n",
    "    \"Cuba\": \"North America\",\n",
    "    \"Dominican-Republic\": \"North America\",\n",
    "    \"Jamaica\": \"North America\",\n",
    "    \"Haiti\": \"North America\",\n",
    "    \"Nicaragua\": \"North America\",\n",
    "    \n",
    "    # Latin America\n",
    "    \"El-Salvador\": \"Latin America\",\n",
    "    \"Guatemala\": \"Latin America\",\n",
    "    \"Columbia\": \"Latin America\",\n",
    "    \"Peru\": \"Latin America\",\n",
    "    \"Ecuador\": \"Latin America\",\n",
    "    \"Trinadad&Tobago\": \"Latin America\",\n",
    "    \n",
    "    # Asia\n",
    "    \"Philippines\": \"Asia\",\n",
    "    \"India\": \"Asia\",\n",
    "    \"China\": \"Asia\",\n",
    "    \"Vietnam\": \"Asia\",\n",
    "    \"Japan\": \"Asia\",\n",
    "    \"Taiwan\": \"Asia\",\n",
    "    \"Iran\": \"Asia\",\n",
    "    \"Thailand\": \"Asia\",\n",
    "    \"Cambodia\": \"Asia\",\n",
    "    \"Laos\": \"Asia\",\n",
    "    \"Hong\": \"Asia\",\n",
    "    \n",
    "    # Europe\n",
    "    \"Germany\": \"Europe\",\n",
    "    \"England\": \"Europe\",\n",
    "    \"Italy\": \"Europe\",\n",
    "    \"Poland\": \"Europe\",\n",
    "    \"Portugal\": \"Europe\",\n",
    "    \"France\": \"Europe\",\n",
    "    \"Greece\": \"Europe\",\n",
    "    \"Ireland\": \"Europe\",\n",
    "    \"Hungary\": \"Europe\",\n",
    "    \"Scotland\": \"Europe\",\n",
    "    \"Yugoslavia\": \"Europe\",\n",
    "    \"Holand-Netherlands\": \"Europe\"\n",
    "}\n",
    "\n",
    "df['native-country'] = df['native-country'].replace(region_map)\n",
    "df['native-country'].value_counts(dropna=False)"
   ]
  },
  {
   "cell_type": "code",
   "execution_count": 27,
   "metadata": {},
   "outputs": [
    {
     "data": {
      "text/plain": [
       "False"
      ]
     },
     "execution_count": 27,
     "metadata": {},
     "output_type": "execute_result"
    }
   ],
   "source": [
    "for col in df[nan_cols].select_dtypes(include='object'):\n",
    "    df[col].fillna(value='Unknown', inplace=True)\n",
    "\n",
    "# check if theres still null values\n",
    "\n",
    "df.isnull().values.any()"
   ]
  },
  {
   "cell_type": "code",
   "execution_count": 28,
   "metadata": {},
   "outputs": [
    {
     "name": "stdout",
     "output_type": "stream",
     "text": [
      "workclass\n",
      "Not-self-emp    23927\n",
      "Self-emp         3563\n",
      "Unknown          1639\n",
      "Name: workclass, dtype: int64\n",
      "\n",
      "marital-status\n",
      "Married_together      13298\n",
      "Never-married          9214\n",
      "Previously married     5189\n",
      "Married_apart          1428\n",
      "Name: marital-status, dtype: int64\n",
      "\n",
      "occupation\n",
      "Prof-specialty       3887\n",
      "Exec-managerial      3724\n",
      "Adm-clerical         3326\n",
      "Craft-repair         3307\n",
      "Sales                3275\n",
      "Other-service        3000\n",
      "Machine-op-inspct    1708\n",
      "Unknown              1646\n",
      "Transport-moving     1448\n",
      "Handlers-cleaners    1183\n",
      "Farming-fishing       962\n",
      "Tech-support          876\n",
      "Protective-serv       631\n",
      "Priv-house-serv       147\n",
      "Armed-Forces            9\n",
      "Name: occupation, dtype: int64\n",
      "\n",
      "relationship\n",
      "Husband           11531\n",
      "Not-in-family      7676\n",
      "Own-child          4120\n",
      "Unmarried          3308\n",
      "Wife               1529\n",
      "Other-relative      965\n",
      "Name: relationship, dtype: int64\n",
      "\n",
      "race\n",
      "White                 24473\n",
      "Black                  3036\n",
      "Asian-Pac-Islander     1038\n",
      "Amer-Indian-Inuit       311\n",
      "Other                   271\n",
      "Name: race, dtype: int64\n",
      "\n",
      "sex_selfID\n",
      "Non-Female    19290\n",
      "Female         9839\n",
      "Name: sex_selfID, dtype: int64\n",
      "\n",
      "native-country\n",
      "United-States    25753\n",
      "North America     1219\n",
      "Asia               671\n",
      "Unknown            581\n",
      "Europe             520\n",
      "Latin America      305\n",
      "South               80\n",
      "Name: native-country, dtype: int64\n",
      "\n",
      "income_binary\n",
      "<=50K    21906\n",
      ">50K      7223\n",
      "Name: income_binary, dtype: int64\n",
      "\n"
     ]
    }
   ],
   "source": [
    "# print value distribution of categorial features\n",
    "for col in df.select_dtypes(include='object'):\n",
    "    print(col)\n",
    "    print(df[col].value_counts(dropna=False))\n",
    "    print()"
   ]
  },
  {
   "cell_type": "markdown",
   "metadata": {},
   "source": [
    "#### Normalize data and handle outliers"
   ]
  },
  {
   "cell_type": "code",
   "execution_count": 29,
   "metadata": {},
   "outputs": [
    {
     "name": "stdout",
     "output_type": "stream",
     "text": [
      "numerical features: \n",
      "['age', 'education-num', 'capital-gain', 'capital-loss', 'hours-per-week']\n"
     ]
    }
   ],
   "source": [
    "# list of numerical features\n",
    "print('numerical features: ')\n",
    "print(list(df.select_dtypes(include='number').columns))"
   ]
  },
  {
   "cell_type": "code",
   "execution_count": 30,
   "metadata": {},
   "outputs": [
    {
     "data": {
      "image/png": "[encoded data removed]",
      "text/plain": [
       "<Figure size 640x480 with 1 Axes>"
      ]
     },
     "metadata": {},
     "output_type": "display_data"
    },
    {
     "name": "stdout",
     "output_type": "stream",
     "text": [
      "age\n",
      "31.0    0.027567\n",
      "36.0    0.027498\n",
      "34.0    0.027189\n",
      "28.0    0.026812\n",
      "33.0    0.026743\n",
      "          ...   \n",
      "83.0    0.000206\n",
      "88.0    0.000103\n",
      "85.0    0.000103\n",
      "86.0    0.000034\n",
      "87.0    0.000034\n",
      "Name: age, Length: 74, dtype: float64\n"
     ]
    },
    {
     "data": {
      "image/png": "[encoded data removed]",
      "text/plain": [
       "<Figure size 640x480 with 1 Axes>"
      ]
     },
     "metadata": {},
     "output_type": "display_data"
    },
    {
     "name": "stdout",
     "output_type": "stream",
     "text": [
      "education-num\n",
      "9     0.305160\n",
      "10    0.219403\n",
      "13    0.165505\n",
      "14    0.056816\n",
      "11    0.045693\n",
      "7     0.036390\n",
      "12    0.036150\n",
      "6     0.029833\n",
      "4     0.021594\n",
      "15    0.019362\n",
      "5     0.017371\n",
      "8     0.014247\n",
      "16    0.013801\n",
      "3     0.011260\n",
      "2     0.005699\n",
      "1     0.001717\n",
      "Name: education-num, dtype: float64\n"
     ]
    },
    {
     "data": {
      "image/png": "[encoded data removed]",
      "text/plain": [
       "<Figure size 640x480 with 1 Axes>"
      ]
     },
     "metadata": {},
     "output_type": "display_data"
    },
    {
     "name": "stdout",
     "output_type": "stream",
     "text": [
      "capital-gain\n",
      "0        0.907549\n",
      "14084    0.022932\n",
      "7688     0.009612\n",
      "7298     0.008377\n",
      "3103     0.003330\n",
      "           ...   \n",
      "1111     0.000034\n",
      "1639     0.000034\n",
      "7978     0.000034\n",
      "2387     0.000034\n",
      "5060     0.000034\n",
      "Name: capital-gain, Length: 106, dtype: float64\n"
     ]
    },
    {
     "data": {
      "image/png": "[encoded data removed]",
      "text/plain": [
       "<Figure size 640x480 with 1 Axes>"
      ]
     },
     "metadata": {},
     "output_type": "display_data"
    },
    {
     "name": "stdout",
     "output_type": "stream",
     "text": [
      "capital-loss\n",
      "0       0.948127\n",
      "1902    0.006935\n",
      "1977    0.005699\n",
      "1887    0.005390\n",
      "1485    0.001751\n",
      "          ...   \n",
      "2080    0.000034\n",
      "1539    0.000034\n",
      "1844    0.000034\n",
      "2489    0.000034\n",
      "1411    0.000034\n",
      "Name: capital-loss, Length: 92, dtype: float64\n"
     ]
    },
    {
     "data": {
      "image/png": "[encoded data removed]",
      "text/plain": [
       "<Figure size 640x480 with 1 Axes>"
      ]
     },
     "metadata": {},
     "output_type": "display_data"
    },
    {
     "name": "stdout",
     "output_type": "stream",
     "text": [
      "hours-per-week\n",
      "40.0    0.442068\n",
      "50.0    0.088709\n",
      "45.0    0.058224\n",
      "60.0    0.047925\n",
      "35.0    0.042089\n",
      "          ...   \n",
      "82.0    0.000034\n",
      "94.0    0.000034\n",
      "92.0    0.000034\n",
      "87.0    0.000034\n",
      "74.0    0.000034\n",
      "Name: hours-per-week, Length: 94, dtype: float64\n"
     ]
    }
   ],
   "source": [
    "for col in list(df.select_dtypes(include='number').columns):\n",
    "    plt.figure()\n",
    "    sns.boxplot(x=df[col])\n",
    "    plt.title(f'Box Plot of {col}')\n",
    "    plt.show()\n",
    "    print(col)\n",
    "    print(df[col].value_counts(dropna=False, normalize=True))"
   ]
  },
  {
   "cell_type": "markdown",
   "metadata": {},
   "source": [
    "capital-gain and capital-loss are highly imbalanced so I will convert it into a binary feature of capital gain/loss = 0"
   ]
  },
  {
   "cell_type": "code",
   "execution_count": 31,
   "metadata": {},
   "outputs": [
    {
     "data": {
      "text/plain": [
       "['age',\n",
       " 'workclass',\n",
       " 'education-num',\n",
       " 'marital-status',\n",
       " 'occupation',\n",
       " 'relationship',\n",
       " 'race',\n",
       " 'sex_selfID',\n",
       " 'hours-per-week',\n",
       " 'native-country',\n",
       " 'income_binary',\n",
       " 'age_na',\n",
       " 'workclass_na',\n",
       " 'occupation_na',\n",
       " 'hours-per-week_na',\n",
       " 'native-country_na',\n",
       " 'no_capital-gain',\n",
       " 'no_capital-loss']"
      ]
     },
     "execution_count": 31,
     "metadata": {},
     "output_type": "execute_result"
    }
   ],
   "source": [
    "# convert capital gain/loss into a binary feature of gain/loss = 0\n",
    "for col in ('capital-gain', 'capital-loss'):\n",
    "    df[str('no_') + col] = np.where(df[col] == 0, True, False)\n",
    "    df.drop(columns=col, inplace=True)\n",
    "list(df.columns)"
   ]
  },
  {
   "cell_type": "code",
   "execution_count": 32,
   "metadata": {},
   "outputs": [
    {
     "name": "stdout",
     "output_type": "stream",
     "text": [
      "numerical features: \n",
      "['age', 'education-num', 'hours-per-week']\n"
     ]
    }
   ],
   "source": [
    "print('numerical features: ')\n",
    "print(list(df.select_dtypes(include='number').columns))"
   ]
  },
  {
   "cell_type": "code",
   "execution_count": 33,
   "metadata": {},
   "outputs": [
    {
     "data": {
      "image/png": "[encoded data removed]",
      "text/plain": [
       "<Figure size 640x480 with 1 Axes>"
      ]
     },
     "metadata": {},
     "output_type": "display_data"
    },
    {
     "data": {
      "image/png": "[encoded data removed]",
      "text/plain": [
       "<Figure size 640x480 with 1 Axes>"
      ]
     },
     "metadata": {},
     "output_type": "display_data"
    },
    {
     "data": {
      "image/png": "[encoded data removed]",
      "text/plain": [
       "<Figure size 640x480 with 1 Axes>"
      ]
     },
     "metadata": {},
     "output_type": "display_data"
    }
   ],
   "source": [
    "for col in df.select_dtypes(include='number').columns:\n",
    "    df[col] = stats.mstats.winsorize(df[col], limits=[0.01, 0.01])\n",
    "    df[col] = stats.zscore(df[col])\n",
    "    plt.figure()\n",
    "    sns.boxplot(x=df[col])\n",
    "    plt.title(f'Box Plot of {col}')\n",
    "    plt.show()"
   ]
  },
  {
   "cell_type": "markdown",
   "metadata": {},
   "source": [
    "#### One-hot encode features"
   ]
  },
  {
   "cell_type": "code",
   "execution_count": 35,
   "metadata": {},
   "outputs": [
    {
     "data": {
      "text/plain": [
       "workclass          3\n",
       "marital-status     4\n",
       "occupation        15\n",
       "relationship       6\n",
       "race               5\n",
       "sex_selfID         2\n",
       "native-country     7\n",
       "income_binary      2\n",
       "dtype: int64"
      ]
     },
     "execution_count": 35,
     "metadata": {},
     "output_type": "execute_result"
    }
   ],
   "source": [
    "# show number of unique values in each feature\n",
    "df.select_dtypes(include='object').nunique()"
   ]
  },
  {
   "cell_type": "code",
   "execution_count": 36,
   "metadata": {},
   "outputs": [
    {
     "name": "stdout",
     "output_type": "stream",
     "text": [
      "features to encode: \n",
      "workclass          3\n",
      "occupation        15\n",
      "relationship       6\n",
      "race               5\n",
      "sex_selfID         2\n",
      "native-country     7\n",
      "income_binary      2\n",
      "dtype: int64\n"
     ]
    }
   ],
   "source": [
    "to_encode = list(df.drop(columns='marital-status').select_dtypes(include=['object']).columns)\n",
    "print('features to encode: ')\n",
    "print(df[to_encode].nunique())"
   ]
  },
  {
   "cell_type": "code",
   "execution_count": 37,
   "metadata": {},
   "outputs": [],
   "source": [
    "# one-hot encode each feature\n",
    "for col in to_encode:\n",
    "    df_new = pd.get_dummies(df[col], prefix=col + '_')\n",
    "    df = df.join(df_new)\n",
    "df.drop(columns=to_encode, inplace=True)"
   ]
  },
  {
   "cell_type": "code",
   "execution_count": 38,
   "metadata": {},
   "outputs": [
    {
     "data": {
      "text/html": [
       "<div>\n",
       "<style scoped>\n",
       "    .dataframe tbody tr th:only-of-type {\n",
       "        vertical-align: middle;\n",
       "    }\n",
       "\n",
       "    .dataframe tbody tr th {\n",
       "        vertical-align: top;\n",
       "    }\n",
       "\n",
       "    .dataframe thead th {\n",
       "        text-align: right;\n",
       "    }\n",
       "</style>\n",
       "<table border=\"1\" class=\"dataframe\">\n",
       "  <thead>\n",
       "    <tr style=\"text-align: right;\">\n",
       "      <th></th>\n",
       "      <th>age</th>\n",
       "      <th>education-num</th>\n",
       "      <th>marital-status</th>\n",
       "      <th>hours-per-week</th>\n",
       "      <th>age_na</th>\n",
       "      <th>workclass_na</th>\n",
       "      <th>occupation_na</th>\n",
       "      <th>hours-per-week_na</th>\n",
       "      <th>native-country_na</th>\n",
       "      <th>no_capital-gain</th>\n",
       "      <th>...</th>\n",
       "      <th>sex_selfID__Non-Female</th>\n",
       "      <th>native-country__Asia</th>\n",
       "      <th>native-country__Europe</th>\n",
       "      <th>native-country__Latin America</th>\n",
       "      <th>native-country__North America</th>\n",
       "      <th>native-country__South</th>\n",
       "      <th>native-country__United-States</th>\n",
       "      <th>native-country__Unknown</th>\n",
       "      <th>income_binary__&lt;=50K</th>\n",
       "      <th>income_binary__&gt;50K</th>\n",
       "    </tr>\n",
       "  </thead>\n",
       "  <tbody>\n",
       "    <tr>\n",
       "      <th>0</th>\n",
       "      <td>-0.013191</td>\n",
       "      <td>1.103339</td>\n",
       "      <td>Never-married</td>\n",
       "      <td>-0.047497</td>\n",
       "      <td>False</td>\n",
       "      <td>False</td>\n",
       "      <td>False</td>\n",
       "      <td>False</td>\n",
       "      <td>False</td>\n",
       "      <td>False</td>\n",
       "      <td>...</td>\n",
       "      <td>1</td>\n",
       "      <td>0</td>\n",
       "      <td>0</td>\n",
       "      <td>0</td>\n",
       "      <td>0</td>\n",
       "      <td>0</td>\n",
       "      <td>1</td>\n",
       "      <td>0</td>\n",
       "      <td>1</td>\n",
       "      <td>0</td>\n",
       "    </tr>\n",
       "    <tr>\n",
       "      <th>1</th>\n",
       "      <td>0.802538</td>\n",
       "      <td>1.103339</td>\n",
       "      <td>Married_together</td>\n",
       "      <td>-2.253829</td>\n",
       "      <td>False</td>\n",
       "      <td>False</td>\n",
       "      <td>False</td>\n",
       "      <td>False</td>\n",
       "      <td>False</td>\n",
       "      <td>True</td>\n",
       "      <td>...</td>\n",
       "      <td>1</td>\n",
       "      <td>0</td>\n",
       "      <td>0</td>\n",
       "      <td>0</td>\n",
       "      <td>0</td>\n",
       "      <td>0</td>\n",
       "      <td>1</td>\n",
       "      <td>0</td>\n",
       "      <td>1</td>\n",
       "      <td>0</td>\n",
       "    </tr>\n",
       "    <tr>\n",
       "      <th>2</th>\n",
       "      <td>-0.087348</td>\n",
       "      <td>-0.424878</td>\n",
       "      <td>Previously married</td>\n",
       "      <td>-0.047497</td>\n",
       "      <td>False</td>\n",
       "      <td>False</td>\n",
       "      <td>False</td>\n",
       "      <td>False</td>\n",
       "      <td>False</td>\n",
       "      <td>True</td>\n",
       "      <td>...</td>\n",
       "      <td>1</td>\n",
       "      <td>0</td>\n",
       "      <td>0</td>\n",
       "      <td>0</td>\n",
       "      <td>0</td>\n",
       "      <td>0</td>\n",
       "      <td>1</td>\n",
       "      <td>0</td>\n",
       "      <td>1</td>\n",
       "      <td>0</td>\n",
       "    </tr>\n",
       "    <tr>\n",
       "      <th>3</th>\n",
       "      <td>1.025009</td>\n",
       "      <td>-1.188986</td>\n",
       "      <td>Married_together</td>\n",
       "      <td>-0.047497</td>\n",
       "      <td>False</td>\n",
       "      <td>False</td>\n",
       "      <td>False</td>\n",
       "      <td>False</td>\n",
       "      <td>False</td>\n",
       "      <td>True</td>\n",
       "      <td>...</td>\n",
       "      <td>1</td>\n",
       "      <td>0</td>\n",
       "      <td>0</td>\n",
       "      <td>0</td>\n",
       "      <td>0</td>\n",
       "      <td>0</td>\n",
       "      <td>1</td>\n",
       "      <td>0</td>\n",
       "      <td>1</td>\n",
       "      <td>0</td>\n",
       "    </tr>\n",
       "    <tr>\n",
       "      <th>4</th>\n",
       "      <td>-0.828919</td>\n",
       "      <td>1.103339</td>\n",
       "      <td>Married_together</td>\n",
       "      <td>-0.047497</td>\n",
       "      <td>False</td>\n",
       "      <td>False</td>\n",
       "      <td>False</td>\n",
       "      <td>False</td>\n",
       "      <td>False</td>\n",
       "      <td>True</td>\n",
       "      <td>...</td>\n",
       "      <td>0</td>\n",
       "      <td>0</td>\n",
       "      <td>0</td>\n",
       "      <td>0</td>\n",
       "      <td>1</td>\n",
       "      <td>0</td>\n",
       "      <td>0</td>\n",
       "      <td>0</td>\n",
       "      <td>1</td>\n",
       "      <td>0</td>\n",
       "    </tr>\n",
       "  </tbody>\n",
       "</table>\n",
       "<p>5 rows × 51 columns</p>\n",
       "</div>"
      ],
      "text/plain": [
       "        age  education-num      marital-status  hours-per-week  age_na  \\\n",
       "0 -0.013191       1.103339       Never-married       -0.047497   False   \n",
       "1  0.802538       1.103339    Married_together       -2.253829   False   \n",
       "2 -0.087348      -0.424878  Previously married       -0.047497   False   \n",
       "3  1.025009      -1.188986    Married_together       -0.047497   False   \n",
       "4 -0.828919       1.103339    Married_together       -0.047497   False   \n",
       "\n",
       "   workclass_na  occupation_na  hours-per-week_na  native-country_na  \\\n",
       "0         False          False              False              False   \n",
       "1         False          False              False              False   \n",
       "2         False          False              False              False   \n",
       "3         False          False              False              False   \n",
       "4         False          False              False              False   \n",
       "\n",
       "   no_capital-gain  ...  sex_selfID__Non-Female  native-country__Asia  \\\n",
       "0            False  ...                       1                     0   \n",
       "1             True  ...                       1                     0   \n",
       "2             True  ...                       1                     0   \n",
       "3             True  ...                       1                     0   \n",
       "4             True  ...                       0                     0   \n",
       "\n",
       "   native-country__Europe  native-country__Latin America  \\\n",
       "0                       0                              0   \n",
       "1                       0                              0   \n",
       "2                       0                              0   \n",
       "3                       0                              0   \n",
       "4                       0                              0   \n",
       "\n",
       "   native-country__North America  native-country__South  \\\n",
       "0                              0                      0   \n",
       "1                              0                      0   \n",
       "2                              0                      0   \n",
       "3                              0                      0   \n",
       "4                              1                      0   \n",
       "\n",
       "   native-country__United-States  native-country__Unknown  \\\n",
       "0                              1                        0   \n",
       "1                              1                        0   \n",
       "2                              1                        0   \n",
       "3                              1                        0   \n",
       "4                              0                        0   \n",
       "\n",
       "   income_binary__<=50K  income_binary__>50K  \n",
       "0                     1                    0  \n",
       "1                     1                    0  \n",
       "2                     1                    0  \n",
       "3                     1                    0  \n",
       "4                     1                    0  \n",
       "\n",
       "[5 rows x 51 columns]"
      ]
     },
     "execution_count": 38,
     "metadata": {},
     "output_type": "execute_result"
    }
   ],
   "source": [
    "df.head()"
   ]
  },
  {
   "cell_type": "markdown",
   "metadata": {},
   "source": [
    "### Train LogisticRegression model"
   ]
  },
  {
   "cell_type": "code",
   "execution_count": 39,
   "metadata": {},
   "outputs": [
    {
     "name": "stdout",
     "output_type": "stream",
     "text": [
      "Number of examples: 29129\n",
      "Number of Features:50\n"
     ]
    }
   ],
   "source": [
    "y = df['marital-status']\n",
    "X = df.drop(columns='marital-status')\n",
    "\n",
    "print(\"Number of examples: \" + str(X.shape[0]))\n",
    "print(\"Number of Features:\" + str(X.shape[1]))"
   ]
  },
  {
   "cell_type": "code",
   "execution_count": 40,
   "metadata": {},
   "outputs": [],
   "source": [
    "X_train, X_test, y_train, y_test = train_test_split(X, y, test_size=.33)"
   ]
  },
  {
   "cell_type": "markdown",
   "metadata": {},
   "source": [
    "gridsearch to find best C value"
   ]
  },
  {
   "cell_type": "code",
   "execution_count": 41,
   "metadata": {},
   "outputs": [
    {
     "data": {
      "text/plain": [
       "{'C': [1e-05, 0.0001, 0.001, 0.01, 0.1, 1, 10, 100, 1000, 10000]}"
      ]
     },
     "execution_count": 41,
     "metadata": {},
     "output_type": "execute_result"
    }
   ],
   "source": [
    "# list of possible C for model\n",
    "param_grid = {'C': [10**i for i in range(-5,5)]}\n",
    "\n",
    "param_grid"
   ]
  },
  {
   "cell_type": "code",
   "execution_count": 42,
   "metadata": {},
   "outputs": [
    {
     "name": "stdout",
     "output_type": "stream",
     "text": [
      "Running Grid Search...\n",
      "Done\n"
     ]
    }
   ],
   "source": [
    "print('Running Grid Search...')\n",
    "\n",
    "model_gridsearch = LogisticRegression(max_iter=1000, class_weight='balanced')\n",
    "\n",
    "# grid search with 5-fold cross-validation \n",
    "\n",
    "grid = GridSearchCV(model_gridsearch, param_grid, cv=5)\n",
    "\n",
    "# fit model\n",
    "\n",
    "grid_search = grid.fit(X_train, y_train)\n",
    "\n",
    "print('Done')"
   ]
  },
  {
   "cell_type": "code",
   "execution_count": 43,
   "metadata": {},
   "outputs": [
    {
     "data": {
      "text/plain": [
       "0.01"
      ]
     },
     "execution_count": 43,
     "metadata": {},
     "output_type": "execute_result"
    }
   ],
   "source": [
    "# save best parameters\n",
    "best_C = grid_search.best_estimator_.C\n",
    "\n",
    "best_C"
   ]
  },
  {
   "cell_type": "markdown",
   "metadata": {},
   "source": [
    "find best number of features to shorten training time"
   ]
  },
  {
   "cell_type": "code",
   "execution_count": 44,
   "metadata": {},
   "outputs": [
    {
     "name": "stdout",
     "output_type": "stream",
     "text": [
      "Best 1 features:\n",
      "\tMarried_apart:   0.712035010940919\n",
      "\tMarried_together:   0.9332662642521797\n",
      "\tNever-married:   0.7919993973180655\n",
      "\tPreviously married:   0.7446351931330473\n",
      "\n",
      "Best 2 features:\n",
      "\tMarried_apart:   0.7010457483079742\n",
      "\tMarried_together:   0.9643237070499087\n",
      "\tNever-married:   0.8030709692405398\n",
      "\tPreviously married:   0.7851600413314261\n",
      "\n",
      "Best 3 features:\n",
      "\tMarried_apart:   0.780639777758245\n",
      "\tMarried_together:   0.976768392455903\n",
      "\tNever-married:   0.9313326358748042\n",
      "\tPreviously married:   0.9040054711437701\n",
      "\n",
      "Best 4 features:\n",
      "\tMarried_apart:   0.7933994800172094\n",
      "\tMarried_together:   0.9797999410209635\n",
      "\tNever-married:   0.9412175005386875\n",
      "\tPreviously married:   0.9035554148512753\n",
      "\n",
      "Best 5 features:\n",
      "\tMarried_apart:   0.8369496578938846\n",
      "\tMarried_together:   0.9939792668679609\n",
      "\tNever-married:   0.941554433357473\n",
      "\tPreviously married:   0.924429248149947\n",
      "\n",
      "Best 6 features:\n",
      "\tMarried_apart:   0.8399722891733474\n",
      "\tMarried_together:   0.9951783767890525\n",
      "\tNever-married:   0.9428852547060225\n",
      "\tPreviously married:   0.9255650636282107\n",
      "\n",
      "Best 7 features:\n",
      "\tMarried_apart:   0.8395994189516147\n",
      "\tMarried_together:   0.9952477945928925\n",
      "\tNever-married:   0.9429947642006931\n",
      "\tPreviously married:   0.9256243346012145\n",
      "\n",
      "Best 8 features:\n",
      "\tMarried_apart:   0.8418011343396821\n",
      "\tMarried_together:   0.9953959598490206\n",
      "\tNever-married:   0.9440456604470538\n",
      "\tPreviously married:   0.9255167659965563\n",
      "\n",
      "Best 9 features:\n",
      "\tMarried_apart:   0.842133988092209\n",
      "\tMarried_together:   0.9953892181450137\n",
      "\tNever-married:   0.9440564949509187\n",
      "\tPreviously married:   0.9255561057985374\n",
      "\n",
      "Best 10 features:\n",
      "\tMarried_apart:   0.8489042889327862\n",
      "\tMarried_together:   0.9963075687153617\n",
      "\tNever-married:   0.9481160671034491\n",
      "\tPreviously married:   0.9300854084270186\n",
      "\n",
      "Best 11 features:\n",
      "\tMarried_apart:   0.8495144822609073\n",
      "\tMarried_together:   0.9962201657850257\n",
      "\tNever-married:   0.9481090044245278\n",
      "\tPreviously married:   0.9303878098270675\n",
      "\n",
      "Best 12 features:\n",
      "\tMarried_apart:   0.8495438585128677\n",
      "\tMarried_together:   0.996184391258924\n",
      "\tNever-married:   0.948152139925896\n",
      "\tPreviously married:   0.9304208418239873\n",
      "\n",
      "Best 13 features:\n",
      "\tMarried_apart:   0.8509785530229783\n",
      "\tMarried_together:   0.9962132066066959\n",
      "\tNever-married:   0.9481440393622589\n",
      "\tPreviously married:   0.9305322175062567\n",
      "\n",
      "Best 14 features:\n",
      "\tMarried_apart:   0.8545075198578838\n",
      "\tMarried_together:   0.9961807159428686\n",
      "\tNever-married:   0.948367817432737\n",
      "\tPreviously married:   0.9319730470848908\n",
      "\n",
      "Best 15 features:\n",
      "\tMarried_apart:   0.854390708777254\n",
      "\tMarried_together:   0.9961987445642293\n",
      "\tNever-married:   0.9483861702722276\n",
      "\tPreviously married:   0.9319841697234017\n",
      "\n",
      "Best 16 features:\n",
      "\tMarried_apart:   0.8545958799228353\n",
      "\tMarried_together:   0.9961612084961129\n",
      "\tNever-married:   0.9489135675935332\n",
      "\tPreviously married:   0.932016791153128\n",
      "\n",
      "Best 17 features:\n",
      "\tMarried_apart:   0.8541471403259607\n",
      "\tMarried_together:   0.9961471814022919\n",
      "\tNever-married:   0.9489765241615511\n",
      "\tPreviously married:   0.9325079788135385\n",
      "\n",
      "Best 18 features:\n",
      "\tMarried_apart:   0.8545806135241787\n",
      "\tMarried_together:   0.9961531184513045\n",
      "\tNever-married:   0.9489936366022348\n",
      "\tPreviously married:   0.9325092105151186\n",
      "\n",
      "Best 19 features:\n",
      "\tMarried_apart:   0.8548148139581146\n",
      "\tMarried_together:   0.9961582508453227\n",
      "\tNever-married:   0.9490207734904195\n",
      "\tPreviously married:   0.932515145077277\n",
      "\n",
      "Best 20 features:\n",
      "\tMarried_apart:   0.8546785729155584\n",
      "\tMarried_together:   0.9961541405806217\n",
      "\tNever-married:   0.9490152549814416\n",
      "\tPreviously married:   0.9325399657303296\n",
      "\n",
      "Best 21 features:\n",
      "\tMarried_apart:   0.8574166940382401\n",
      "\tMarried_together:   0.9962896270837303\n",
      "\tNever-married:   0.9504081215845999\n",
      "\tPreviously married:   0.9334439600415106\n",
      "\n",
      "Best 22 features:\n",
      "\tMarried_apart:   0.8571646828058715\n",
      "\tMarried_together:   0.9962885614595485\n",
      "\tNever-married:   0.9506810852649127\n",
      "\tPreviously married:   0.9337894709968617\n",
      "\n",
      "Best 23 features:\n",
      "\tMarried_apart:   0.861495019915711\n",
      "\tMarried_together:   0.996303023502015\n",
      "\tNever-married:   0.950731410016509\n",
      "\tPreviously married:   0.9350792864969227\n",
      "\n",
      "Best 24 features:\n",
      "\tMarried_apart:   0.8614700385360912\n",
      "\tMarried_together:   0.9963082863806271\n",
      "\tNever-married:   0.950700805074517\n",
      "\tPreviously married:   0.9350712617745072\n",
      "\n",
      "Best 25 features:\n",
      "\tMarried_apart:   0.8617174235870486\n",
      "\tMarried_together:   0.9962983695515071\n",
      "\tNever-married:   0.950719866713326\n",
      "\tPreviously married:   0.9352236941761118\n",
      "\n",
      "Best 26 features:\n",
      "\tMarried_apart:   0.8617531608384491\n",
      "\tMarried_together:   0.9963032192289056\n",
      "\tNever-married:   0.9507263218499743\n",
      "\tPreviously married:   0.9352379893792986\n",
      "\n",
      "Best 27 features:\n",
      "\tMarried_apart:   0.8616969527343046\n",
      "\tMarried_together:   0.9963179857354243\n",
      "\tNever-married:   0.9507767225443546\n",
      "\tPreviously married:   0.9352938265175944\n",
      "\n",
      "Best 28 features:\n",
      "\tMarried_apart:   0.861662487682792\n",
      "\tMarried_together:   0.9963122444133021\n",
      "\tNever-married:   0.9507823169961165\n",
      "\tPreviously married:   0.9352916243844664\n",
      "\n",
      "Best 29 features:\n",
      "\tMarried_apart:   0.8616960274980223\n",
      "\tMarried_together:   0.9963322955458649\n",
      "\tNever-married:   0.9508659046871483\n",
      "\tPreviously married:   0.935405836712799\n",
      "\n",
      "Best 30 features:\n",
      "\tMarried_apart:   0.8617582496380013\n",
      "\tMarried_together:   0.996331599628032\n",
      "\tNever-married:   0.9508741065078309\n",
      "\tPreviously married:   0.9354793655646993\n",
      "\n",
      "Best 31 features:\n",
      "\tMarried_apart:   0.8616747470635313\n",
      "\tMarried_together:   0.9963158544870607\n",
      "\tNever-married:   0.950882207071468\n",
      "\tPreviously married:   0.9354931009035313\n",
      "\n",
      "Best 32 features:\n",
      "\tMarried_apart:   0.8617878571990323\n",
      "\tMarried_together:   0.9963386457960909\n",
      "\tNever-married:   0.9510654823237601\n",
      "\tPreviously married:   0.9358334237825302\n",
      "\n",
      "Best 33 features:\n",
      "\tMarried_apart:   0.86179109552602\n",
      "\tMarried_together:   0.9963434737260571\n",
      "\tNever-married:   0.9510661404945556\n",
      "\tPreviously married:   0.9358218532525358\n",
      "\n",
      "Best 34 features:\n",
      "\tMarried_apart:   0.8618153829784281\n",
      "\tMarried_together:   0.9963446915822648\n",
      "\tNever-married:   0.951059609415123\n",
      "\tPreviously married:   0.9358224504411806\n",
      "\n",
      "Best 35 features:\n",
      "\tMarried_apart:   0.8618028922886182\n",
      "\tMarried_together:   0.9963422558698494\n",
      "\tNever-married:   0.9510572298745547\n",
      "\tPreviously married:   0.9358267054102754\n",
      "\n",
      "Best 36 features:\n",
      "\tMarried_apart:   0.8618961098440514\n",
      "\tMarried_together:   0.9963463443871182\n",
      "\tNever-married:   0.9510570273604637\n",
      "\tPreviously married:   0.9358296913534997\n",
      "\n",
      "Best 37 features:\n",
      "\tMarried_apart:   0.8618352755584957\n",
      "\tMarried_together:   0.9963566091751546\n",
      "\tNever-married:   0.9510667480368283\n",
      "\tPreviously married:   0.935832527999563\n",
      "\n",
      "Best 38 features:\n",
      "\tMarried_apart:   0.8618121446514404\n",
      "\tMarried_together:   0.9963546519062495\n",
      "\tNever-married:   0.9510918091555809\n",
      "\tPreviously married:   0.9358655973207728\n",
      "\n",
      "Best 39 features:\n",
      "\tMarried_apart:   0.8618736728642077\n",
      "\tMarried_together:   0.9963696141396585\n",
      "\tNever-married:   0.9511062889130827\n",
      "\tPreviously married:   0.935863283214774\n",
      "\n",
      "Best 40 features:\n",
      "\tMarried_apart:   0.8618762172639838\n",
      "\tMarried_together:   0.996364612230234\n",
      "\tNever-married:   0.9510999097192183\n",
      "\tPreviously married:   0.9358717931529634\n",
      "\n",
      "Best 41 features:\n",
      "\tMarried_apart:   0.8618829252270298\n",
      "\tMarried_together:   0.9963686137577736\n",
      "\tNever-married:   0.9511023905168321\n",
      "\tPreviously married:   0.9358725396387695\n",
      "\n",
      "Best 42 features:\n",
      "\tMarried_apart:   0.8618770268457308\n",
      "\tMarried_together:   0.9963697011293876\n",
      "\tNever-married:   0.9510985174348432\n",
      "\tPreviously married:   0.9358588789485179\n",
      "\n",
      "Best 43 features:\n",
      "\tMarried_apart:   0.8619114918972433\n",
      "\tMarried_together:   0.996372745769907\n",
      "\tNever-married:   0.9511059598276848\n",
      "\tPreviously married:   0.9358952328072749\n",
      "\n",
      "Best 44 features:\n",
      "\tMarried_apart:   0.8618439496486416\n",
      "\tMarried_together:   0.9963786610714873\n",
      "\tNever-married:   0.9511231735254139\n",
      "\tPreviously married:   0.9359181499215219\n",
      "\n",
      "Best 45 features:\n",
      "\tMarried_apart:   0.861923519968912\n",
      "\tMarried_together:   0.9963666999837328\n",
      "\tNever-married:   0.9511052510283665\n",
      "\tPreviously married:   0.9359068779858499\n",
      "\n",
      "Best 46 features:\n",
      "\tMarried_apart:   0.861923519968912\n",
      "\tMarried_together:   0.9963664390145457\n",
      "\tNever-married:   0.951105200399844\n",
      "\tPreviously married:   0.9359068033372693\n",
      "\n",
      "Best 47 features:\n",
      "\tMarried_apart:   0.8619436438580503\n",
      "\tMarried_together:   0.9963703535523561\n",
      "\tNever-married:   0.9510955303520018\n",
      "\tPreviously married:   0.93589463561863\n",
      "\n",
      "Best 48 features:\n",
      "\tMarried_apart:   0.8619813472365505\n",
      "\tMarried_together:   0.9963722238315322\n",
      "\tNever-married:   0.9511017070317753\n",
      "\tPreviously married:   0.9358974722646931\n",
      "\n",
      "Best 49 features:\n",
      "\tMarried_apart:   0.8619794967639861\n",
      "\tMarried_together:   0.9963721803366676\n",
      "\tNever-married:   0.951101757660298\n",
      "\tPreviously married:   0.9358971736703707\n",
      "\n",
      "['age', 'education-num', 'hours-per-week', 'age_na', 'workclass_na', 'occupation_na', 'native-country_na', 'no_capital-gain', 'no_capital-loss', 'workclass__Not-self-emp', 'workclass__Self-emp', 'workclass__Unknown', 'occupation__Adm-clerical', 'occupation__Armed-Forces', 'occupation__Craft-repair', 'occupation__Exec-managerial', 'occupation__Farming-fishing', 'occupation__Handlers-cleaners', 'occupation__Machine-op-inspct', 'occupation__Other-service', 'occupation__Priv-house-serv', 'occupation__Prof-specialty', 'occupation__Protective-serv', 'occupation__Sales', 'occupation__Tech-support', 'occupation__Transport-moving', 'occupation__Unknown', 'relationship__Husband', 'relationship__Not-in-family', 'relationship__Other-relative', 'relationship__Own-child', 'relationship__Unmarried', 'relationship__Wife', 'race__Amer-Indian-Inuit', 'race__Asian-Pac-Islander', 'race__Black', 'race__Other', 'race__White', 'sex_selfID__Female', 'sex_selfID__Non-Female', 'native-country__Asia', 'native-country__Europe', 'native-country__Latin America', 'native-country__North America', 'native-country__South', 'native-country__United-States', 'native-country__Unknown', 'income_binary__<=50K', 'income_binary__>50K']\n"
     ]
    }
   ],
   "source": [
    "avg_auc_vals = []\n",
    "best_x_features = []\n",
    "\n",
    "num_features = X_train.shape[1]\n",
    "\n",
    "for x in range(1, num_features):\n",
    "    # k=x is specifying that we want the top x features\n",
    "    selector = SelectKBest(f_classif, k=x)\n",
    "    selector.fit(X, y)\n",
    "    filter = selector.get_support()\n",
    "    top_x_features = list(X.columns[filter])\n",
    "    best_x_features.append(top_x_features)\n",
    "    \n",
    "    print(f\"Best {x} features:\")\n",
    "    # print(top_x_features)\n",
    "    \n",
    "    # Create new training and test data for features\n",
    "    new_X_train = X_train[top_x_features]\n",
    "    new_X_test = X_test[top_x_features]\n",
    "    \n",
    "    \n",
    "    # LogisticRegression model object with the best value of hyperparameter C \n",
    "    model = LogisticRegression(max_iter=1000, C=best_C)\n",
    "    model.fit(new_X_train, y_train)\n",
    "    \n",
    "    \n",
    "    # make predictions on the new test data\n",
    "    proba_predictions = model.predict_proba(new_X_test)\n",
    "    \n",
    "    auc_vals = []\n",
    "    # Compute the auc-roc for each output\n",
    "    for c in model.classes_:\n",
    "        fpr, tpr, thresholds = roc_curve((y_test == c), proba_predictions[:, list(model.classes_).index(c)])\n",
    "        auc_result = auc(fpr, tpr)\n",
    "        auc_vals.append(auc_result)\n",
    "        print(f'\\t{c}:   {auc_result}')\n",
    "\n",
    "    # save avg auc score\n",
    "    auc_avg = np.mean(auc_vals)\n",
    "    avg_auc_vals.append(auc_avg)\n",
    "    print()\n",
    "print(best_x_features[-1])"
   ]
  },
  {
   "cell_type": "code",
   "execution_count": 45,
   "metadata": {},
   "outputs": [
    {
     "name": "stdout",
     "output_type": "stream",
     "text": [
      "best num of features: 48\n",
      "corresponding avg auc val: 0.9363381875911378\n",
      "corresponding features: ['age', 'education-num', 'hours-per-week', 'age_na', 'workclass_na', 'occupation_na', 'native-country_na', 'no_capital-gain', 'no_capital-loss', 'workclass__Not-self-emp', 'workclass__Self-emp', 'workclass__Unknown', 'occupation__Adm-clerical', 'occupation__Armed-Forces', 'occupation__Craft-repair', 'occupation__Exec-managerial', 'occupation__Farming-fishing', 'occupation__Handlers-cleaners', 'occupation__Machine-op-inspct', 'occupation__Other-service', 'occupation__Priv-house-serv', 'occupation__Prof-specialty', 'occupation__Protective-serv', 'occupation__Sales', 'occupation__Tech-support', 'occupation__Transport-moving', 'occupation__Unknown', 'relationship__Husband', 'relationship__Not-in-family', 'relationship__Other-relative', 'relationship__Own-child', 'relationship__Unmarried', 'relationship__Wife', 'race__Amer-Indian-Inuit', 'race__Asian-Pac-Islander', 'race__Black', 'race__Other', 'race__White', 'sex_selfID__Female', 'sex_selfID__Non-Female', 'native-country__Asia', 'native-country__Europe', 'native-country__Latin America', 'native-country__North America', 'native-country__United-States', 'native-country__Unknown', 'income_binary__<=50K', 'income_binary__>50K']\n",
      "\n",
      "\n",
      "avg auc vals: \n",
      "[0.7954839664110529, 0.8134001164824621, 0.8981865693081805, 0.9044930841070339, 0.9242281515673163, 0.9259002460741583, 0.9258665780866038, 0.9266898801580783, 0.9267839517466696, 0.9308533332946539, 0.9310578655743822, 0.9310753078804187, 0.9314670041245474, 0.932757275079595, 0.9327399483342782, 0.9329218617914024, 0.9329447061758355, 0.9330591447732092, 0.9331272458427835, 0.9330969835519878, 0.9343896006870203, 0.9344809501317985, 0.9359021849827894, 0.9358875979414356, 0.9359898385069984, 0.936005172824157, 0.9360213718829196, 0.9360121683691691, 0.9360750161109586, 0.9361108303346408, 0.9360914773813979, 0.9362563522753534, 0.9362556407497922, 0.9362605336042492, 0.9362572708608243, 0.9362822932362833, 0.9362727901925103, 0.9362810507585109, 0.9363032147829307, 0.9363031330915998, 0.9363066172851012, 0.9363010310896198, 0.9363213575755276, 0.9363159835417662, 0.9363255872417153, 0.9363254906801427, 0.9363260408452596, 0.9363381875911378, 0.9363376521078306]\n"
     ]
    }
   ],
   "source": [
    "best_avg_auc_val = max(avg_auc_vals)\n",
    "best_num_features = range(1, num_features)[avg_auc_vals.index(best_avg_auc_val)]\n",
    "best_features = best_x_features[avg_auc_vals.index(best_avg_auc_val)]\n",
    "\n",
    "print(f'best num of features: {best_num_features}')\n",
    "print(f'corresponding avg auc val: {best_avg_auc_val}')\n",
    "print(f'corresponding features: {best_features}\\n')\n",
    "print()\n",
    "print(f'avg auc vals: \\n{avg_auc_vals}')"
   ]
  },
  {
   "cell_type": "markdown",
   "metadata": {},
   "source": [
    "compare with default model"
   ]
  },
  {
   "cell_type": "code",
   "execution_count": 46,
   "metadata": {},
   "outputs": [
    {
     "name": "stdout",
     "output_type": "stream",
     "text": [
      "Log loss: 0.4693991206279413\n",
      "Accuracy: 0.8176427754083012\n",
      "Elapsed time: 0.46s\n"
     ]
    }
   ],
   "source": [
    "# default model\n",
    "model_default = LogisticRegression(max_iter=1000, class_weight='balanced')\n",
    "\n",
    "t0 = time.time() # start time\n",
    "\n",
    "# Fit the model \n",
    "model_default.fit(X_train, y_train)\n",
    "\n",
    "t1 = time.time() # stop time\n",
    "default_time = t1-t0\n",
    "\n",
    "# Make predictions on the test data \n",
    "probability_predictions_default = model_default.predict_proba(X_test)\n",
    "\n",
    "# Compute the log loss \n",
    "l_loss_default = log_loss(y_test, probability_predictions_default)\n",
    "print('Log loss: ' + str(l_loss_default))\n",
    "\n",
    "# Make predictions \n",
    "class_label_predictions_default = model_default.predict(X_test)\n",
    "\n",
    "# Compute the accuracy score \n",
    "acc_score_default = accuracy_score(y_test, class_label_predictions_default)\n",
    "print('Accuracy: ' + str(acc_score_default))\n",
    "print('Elapsed time: %.2fs' % (t1-t0))"
   ]
  },
  {
   "cell_type": "code",
   "execution_count": 47,
   "metadata": {},
   "outputs": [
    {
     "name": "stdout",
     "output_type": "stream",
     "text": [
      "Log loss: 0.5197429803024937\n",
      "Accuracy: 0.8178508270050973\n",
      "Elapsed time: 0.20s\n"
     ]
    }
   ],
   "source": [
    "best_X_train = X_train[best_features]\n",
    "best_X_test = X_test[best_features]\n",
    "\n",
    "# Create best LogisticRegression model \n",
    "model = LogisticRegression(max_iter=1000, C=best_C, class_weight='balanced')\n",
    "\n",
    "t0 = time.time() # start time\n",
    "\n",
    "# Fit the model \n",
    "model.fit(best_X_train, y_train)\n",
    "\n",
    "t1 = time.time() # stop time\n",
    "best_time = t1-t0\n",
    "\n",
    "# Make predictions on the test data \n",
    "probability_predictions = model.predict_proba(best_X_test)\n",
    "\n",
    "# Compute the log loss \n",
    "l_loss = log_loss(y_test, probability_predictions)\n",
    "print('Log loss: ' + str(l_loss))\n",
    "\n",
    "# Make predictions \n",
    "class_label_predictions = model.predict(best_X_test)\n",
    "\n",
    "# Compute the accuracy score \n",
    "acc_score = accuracy_score(y_test, class_label_predictions)\n",
    "print('Accuracy: ' + str(acc_score))\n",
    "print('Elapsed time: %.2fs' % (t1-t0))"
   ]
  },
  {
   "cell_type": "code",
   "execution_count": 48,
   "metadata": {},
   "outputs": [
    {
     "name": "stdout",
     "output_type": "stream",
     "text": [
      "best to default training time ratio:  43.33%\n"
     ]
    }
   ],
   "source": [
    "print(f'best to default training time ratio: {best_time/default_time*100: .2f}%')"
   ]
  },
  {
   "cell_type": "code",
   "execution_count": 49,
   "metadata": {},
   "outputs": [
    {
     "name": "stdout",
     "output_type": "stream",
     "text": [
      "Confusion Matrix for the best model: \n"
     ]
    },
    {
     "data": {
      "text/html": [
       "<div>\n",
       "<style scoped>\n",
       "    .dataframe tbody tr th:only-of-type {\n",
       "        vertical-align: middle;\n",
       "    }\n",
       "\n",
       "    .dataframe tbody tr th {\n",
       "        vertical-align: top;\n",
       "    }\n",
       "\n",
       "    .dataframe thead th {\n",
       "        text-align: right;\n",
       "    }\n",
       "</style>\n",
       "<table border=\"1\" class=\"dataframe\">\n",
       "  <thead>\n",
       "    <tr style=\"text-align: right;\">\n",
       "      <th></th>\n",
       "      <th>Predicted: Married_apart</th>\n",
       "      <th>Predicted: Married_together</th>\n",
       "      <th>Predicted: Never-married</th>\n",
       "      <th>Predicted: Previously married</th>\n",
       "    </tr>\n",
       "  </thead>\n",
       "  <tbody>\n",
       "    <tr>\n",
       "      <th>Actual: Married_apart</th>\n",
       "      <td>209</td>\n",
       "      <td>0</td>\n",
       "      <td>108</td>\n",
       "      <td>156</td>\n",
       "    </tr>\n",
       "    <tr>\n",
       "      <th>Actual: Married_together</th>\n",
       "      <td>21</td>\n",
       "      <td>4387</td>\n",
       "      <td>56</td>\n",
       "      <td>9</td>\n",
       "    </tr>\n",
       "    <tr>\n",
       "      <th>Actual: Never-married</th>\n",
       "      <td>407</td>\n",
       "      <td>1</td>\n",
       "      <td>2187</td>\n",
       "      <td>381</td>\n",
       "    </tr>\n",
       "    <tr>\n",
       "      <th>Actual: Previously married</th>\n",
       "      <td>356</td>\n",
       "      <td>0</td>\n",
       "      <td>256</td>\n",
       "      <td>1079</td>\n",
       "    </tr>\n",
       "  </tbody>\n",
       "</table>\n",
       "</div>"
      ],
      "text/plain": [
       "                            Predicted: Married_apart  \\\n",
       "Actual: Married_apart                            209   \n",
       "Actual: Married_together                          21   \n",
       "Actual: Never-married                            407   \n",
       "Actual: Previously married                       356   \n",
       "\n",
       "                            Predicted: Married_together  \\\n",
       "Actual: Married_apart                                 0   \n",
       "Actual: Married_together                           4387   \n",
       "Actual: Never-married                                 1   \n",
       "Actual: Previously married                            0   \n",
       "\n",
       "                            Predicted: Never-married  \\\n",
       "Actual: Married_apart                            108   \n",
       "Actual: Married_together                          56   \n",
       "Actual: Never-married                           2187   \n",
       "Actual: Previously married                       256   \n",
       "\n",
       "                            Predicted: Previously married  \n",
       "Actual: Married_apart                                 156  \n",
       "Actual: Married_together                                9  \n",
       "Actual: Never-married                                 381  \n",
       "Actual: Previously married                           1079  "
      ]
     },
     "execution_count": 49,
     "metadata": {},
     "output_type": "execute_result"
    }
   ],
   "source": [
    "# create confusion matrix for best model\n",
    "c_m = confusion_matrix(y_test, class_label_predictions, labels=model.classes_)\n",
    "print('Confusion Matrix for the best model: ')\n",
    "pd.DataFrame(\n",
    "c_m,\n",
    "columns=['Predicted: ' + str(c) for c in model.classes_],\n",
    "index=['Actual: ' + str(c) for c in model.classes_]\n",
    ")"
   ]
  },
  {
   "cell_type": "markdown",
   "metadata": {},
   "source": [
    "#### Plot performances"
   ]
  },
  {
   "cell_type": "code",
   "execution_count": 50,
   "metadata": {},
   "outputs": [],
   "source": [
    "model_classes = list(model.classes_)"
   ]
  },
  {
   "cell_type": "code",
   "execution_count": 51,
   "metadata": {},
   "outputs": [
    {
     "data": {
      "image/png": "[encoded data removed]",
      "text/plain": [
       "<Figure size 640x480 with 1 Axes>"
      ]
     },
     "metadata": {},
     "output_type": "display_data"
    },
    {
     "name": "stdout",
     "output_type": "stream",
     "text": [
      "best model auc: 0.8659057369275679\n",
      "default model auc: 0.8670301303195304\n"
     ]
    },
    {
     "data": {
      "image/png": "[encoded data removed]",
      "text/plain": [
       "<Figure size 640x480 with 1 Axes>"
      ]
     },
     "metadata": {},
     "output_type": "display_data"
    },
    {
     "name": "stdout",
     "output_type": "stream",
     "text": [
      "best model auc: 0.9969079500783342\n",
      "default model auc: 0.9979294922148543\n"
     ]
    },
    {
     "data": {
      "image/png": "[encoded data removed]",
      "text/plain": [
       "<Figure size 640x480 with 1 Axes>"
      ]
     },
     "metadata": {},
     "output_type": "display_data"
    },
    {
     "name": "stdout",
     "output_type": "stream",
     "text": [
      "best model auc: 0.9425138438632561\n",
      "default model auc: 0.9520242852872702\n"
     ]
    },
    {
     "data": {
      "image/png": "[encoded data removed]",
      "text/plain": [
       "<Figure size 640x480 with 1 Axes>"
      ]
     },
     "metadata": {},
     "output_type": "display_data"
    },
    {
     "name": "stdout",
     "output_type": "stream",
     "text": [
      "best model auc: 0.9343852413187059\n",
      "default model auc: 0.936268326413161\n"
     ]
    }
   ],
   "source": [
    "# plot roc curve for each class\n",
    "for c in model_classes:\n",
    "    fpr_best, tpr_best, thresholds_best = roc_curve((y_test == c), probability_predictions[:, model_classes.index(c)])\n",
    "    fpr_default, tpr_default, thresholds_default = roc_curve((y_test == c), probability_predictions_default[:, model_classes.index(c)])\n",
    "    auc_best = auc(fpr_best, tpr_best)\n",
    "    auc_default = auc(fpr_default, tpr_default)\n",
    "    \n",
    "    plt.figure()\n",
    "    plt.plot(fpr_default, tpr_default, color='green', label='Default')\n",
    "    plt.plot(fpr_best, tpr_best, color='red', label='Best')\n",
    "    plt.xlabel('False positive rate')\n",
    "    plt.ylabel('True positive rate')\n",
    "    plt.title(f'ROC Curve for {c} vs Rest')\n",
    "    plt.legend()\n",
    "    plt.show()\n",
    "    print(f'best model auc: {auc_best}')\n",
    "    print(f'default model auc: {auc_default}')"
   ]
  },
  {
   "cell_type": "code",
   "execution_count": 52,
   "metadata": {},
   "outputs": [
    {
     "data": {
      "image/png": "[encoded data removed]",
      "text/plain": [
       "<Figure size 640x480 with 1 Axes>"
      ]
     },
     "metadata": {},
     "output_type": "display_data"
    },
    {
     "data": {
      "image/png": "[encoded data removed]",
      "text/plain": [
       "<Figure size 640x480 with 1 Axes>"
      ]
     },
     "metadata": {},
     "output_type": "display_data"
    },
    {
     "data": {
      "image/png": "[encoded data removed]",
      "text/plain": [
       "<Figure size 640x480 with 1 Axes>"
      ]
     },
     "metadata": {},
     "output_type": "display_data"
    },
    {
     "data": {
      "image/png": "[encoded data removed]",
      "text/plain": [
       "<Figure size 640x480 with 1 Axes>"
      ]
     },
     "metadata": {},
     "output_type": "display_data"
    }
   ],
   "source": [
    "# plot precision-recall for each class\n",
    "for c in model_classes:\n",
    "    precision_best, recall_best, thresholds_best = precision_recall_curve((y_test == c), probability_predictions[:, model_classes.index(c)])\n",
    "    precision_default, recall_default, thresholds_default = precision_recall_curve((y_test == c), probability_predictions_default[:, model_classes.index(c)])\n",
    "    \n",
    "    plt.figure()\n",
    "    plt.plot(recall_default, precision_default, color='green', label='Default')\n",
    "    plt.plot(recall_best, precision_best, color='red', label='Best')\n",
    "    plt.xlabel('Recall')\n",
    "    plt.ylabel('Precision')\n",
    "    plt.title(f'Precision-Recall Curve for {c} vs Rest')\n",
    "    plt.legend()\n",
    "    plt.show()"
   ]
  },
  {
   "cell_type": "markdown",
   "metadata": {},
   "source": [
    "#### Findings"
   ]
  },
  {
   "cell_type": "markdown",
   "metadata": {},
   "source": [
    "after reducing the number of features, the training time was reduced by ~53%.\n",
    "\n",
    "looking at the roc curves, the model is very good at separating classes, meaning it is able to differentiate between classes well. \n",
    "\n",
    "looking at the precision-recall curve, the 'Married-Apart' class of 'marital-status' is the most difficult to predict. this is likely because of the class imbalance in the label since there significantly fewer data points with 'Married-Apart'.\n",
    "\n",
    "the best model has a log loss of ~0.52, an accuracy score ~0.82 of and an auc value of ~0.94.\n",
    "\n",
    "for future improvements to performance, i could either find more data on people that are 'Married-Apart' or select sampling data to improve feature and label imbalances."
   ]
  },
  {
   "cell_type": "markdown",
   "metadata": {},
   "source": [
    "#### Make Model Persistent"
   ]
  },
  {
   "cell_type": "code",
   "execution_count": 53,
   "metadata": {},
   "outputs": [],
   "source": [
    "import pickle"
   ]
  },
  {
   "cell_type": "code",
   "execution_count": 54,
   "metadata": {},
   "outputs": [],
   "source": [
    "# save model to file\n",
    "pkl_model_filename = 'marital_status_model.pkl'\n",
    "pickle.dump(model, open(pkl_model_filename, 'wb'))"
   ]
  },
  {
   "cell_type": "code",
   "execution_count": 55,
   "metadata": {},
   "outputs": [
    {
     "data": {
      "text/plain": [
       "array(['Married_apart', 'Married_together', 'Never-married', ...,\n",
       "       'Married_apart', 'Married_together', 'Never-married'], dtype=object)"
      ]
     },
     "execution_count": 55,
     "metadata": {},
     "output_type": "execute_result"
    }
   ],
   "source": [
    "# test saved model\n",
    "model_loaded = pickle.load(open(pkl_model_filename, 'rb'))\n",
    "predictions = model_loaded.predict(best_X_test)\n",
    "predictions"
   ]
  }
 ],
 "metadata": {
  "kernelspec": {
   "display_name": "Python 3 (ipykernel)",
   "language": "python",
   "name": "python3"
  },
  "language_info": {
   "codemirror_mode": {
    "name": "ipython",
    "version": 3
   },
   "file_extension": ".py",
   "mimetype": "text/x-python",
   "name": "python",
   "nbconvert_exporter": "python",
   "pygments_lexer": "ipython3",
   "version": "3.13.5"
  },
  "toc": {
   "base_numbering": 1,
   "nav_menu": {},
   "number_sections": false,
   "sideBar": true,
   "skip_h1_title": false,
   "title_cell": "Table of Contents",
   "title_sidebar": "Contents",
   "toc_cell": false,
   "toc_position": {},
   "toc_section_display": true,
   "toc_window_display": false
  },
  "varInspector": {
   "cols": {
    "lenName": 16,
    "lenType": 16,
    "lenVar": 40
   },
   "kernels_config": {
    "python": {
     "delete_cmd_postfix": "",
     "delete_cmd_prefix": "del ",
     "library": "var_list.py",
     "varRefreshCmd": "print(var_dic_list())"
    },
    "r": {
     "delete_cmd_postfix": ") ",
     "delete_cmd_prefix": "rm(",
     "library": "var_list.r",
     "varRefreshCmd": "cat(var_dic_list()) "
    }
   },
   "types_to_exclude": [
    "module",
    "function",
    "builtin_function_or_method",
    "instance",
    "_Feature"
   ],
   "window_display": false
  }
 },
 "nbformat": 4,
 "nbformat_minor": 4
}
